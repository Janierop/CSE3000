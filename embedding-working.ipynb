{
 "cells": [
  {
   "cell_type": "code",
   "execution_count": 2,
   "metadata": {},
   "outputs": [],
   "source": [
    "import pymeshlab\n",
    "import numpy as np\n",
    "import typing\n",
    "from scipy.optimize import minimize\n",
    "from numba import jit, njit\n",
    "import math\n",
    "from tqdm.notebook import tqdm\n",
    "from matplotlib import pyplot as plt\n",
    "%config InlineBackend.figure_formats = ['svg']\n"
   ]
  },
  {
   "cell_type": "code",
   "execution_count": 1041,
   "metadata": {},
   "outputs": [],
   "source": [
    "def save_mesh(verts, faces, file_name):\n",
    "    saving_mesh = pymeshlab.Mesh(verts, faces)\n",
    "    saving_meshset = pymeshlab.MeshSet()\n",
    "    saving_meshset.add_mesh(saving_mesh)\n",
    "    saving_meshset.save_current_mesh(file_name, save_vertex_normal=False, save_vertex_color=False)"
   ]
  },
  {
   "attachments": {},
   "cell_type": "markdown",
   "metadata": {},
   "source": [
    "# generate bin structure\n",
    "we generate bins by tesalating a sphere to get the bin centers.\n",
    "We will use a fibbonacci sphere for this because it has some nice properties:\n",
    "- very evenly spaced spoints\n",
    "- arbitrary amount of points\n",
    "- simple algorithm\n",
    "- deterministic sequence of points"
   ]
  },
  {
   "cell_type": "code",
   "execution_count": 1042,
   "metadata": {},
   "outputs": [],
   "source": [
    "@njit\n",
    "def fibonacci_sphere(n):\n",
    "    goldenRatio = (1 + 5**0.5)/2\n",
    "    i = np.arange(0, n)\n",
    "    theta = 2 * np.pi * i / goldenRatio\n",
    "    phi = np.arccos(1 - 2*(i+0.5)/n)\n",
    "    x, y, z = np.cos(theta) * np.sin(phi), np.sin(theta) * np.sin(phi), np.cos(phi)\n",
    "\n",
    "    return np.column_stack((x,y,z))"
   ]
  },
  {
   "attachments": {},
   "cell_type": "markdown",
   "metadata": {},
   "source": [
    "# Get radius of bins\n",
    "We get the radius (in radians) of bins by taking taking the smallest angle between two bin centers.  \n",
    "We get the smallest distance by brute force which means that with very large number of bins this becomes\n",
    "extremely computationally expensive.\n",
    "\n",
    "to get the angle theta between two vectors we use the fact that theta is equal to arccos(a dot b / (|a|*|b|))"
   ]
  },
  {
   "cell_type": "code",
   "execution_count": 1043,
   "metadata": {},
   "outputs": [],
   "source": [
    "@njit\n",
    "def get_min_radius(verts):\n",
    "    min = np.finfo(np.float64).max\n",
    "    for i in range(len(verts)):\n",
    "        for j in range(len(verts)):\n",
    "            if (i != j): # dont compare a point to itself\n",
    "                a = verts[i]\n",
    "                b = verts[j]\n",
    "                # get angle distance\n",
    "                dist = np.arccos(a @ b)\n",
    "                if dist < min: min = dist # if this is the smallest so far then update\n",
    "    return min"
   ]
  },
  {
   "attachments": {},
   "cell_type": "markdown",
   "metadata": {},
   "source": [
    "# Calculating face normals\n",
    "Since we want to put all the face normals into their correct bins we first need to calculate each normal of each face.\n",
    "We do this by doing the cross product way"
   ]
  },
  {
   "cell_type": "code",
   "execution_count": 1044,
   "metadata": {},
   "outputs": [],
   "source": [
    "@njit\n",
    "def normalize(vector):\n",
    "    cp = np.copy(vector)\n",
    "    return cp / np.linalg.norm(cp)\n",
    "@njit\n",
    "def get_face_normals(verts, faces):\n",
    "    tmp = np.zeros((len(faces), 3), dtype=np.float64)\n",
    "    #arr = [get_normal(verts, face) for face in faces]\n",
    "    for i, face in enumerate(faces):\n",
    "        tmp[i] = get_face_normal(verts, face)\n",
    "    return tmp\n",
    "    \n",
    "@njit\n",
    "def get_face_normal(verts, face):\n",
    "    # get vertices\n",
    "    p1 = verts[face[0]]\n",
    "    p2 = verts[face[1]]\n",
    "    p3 = verts[face[2]]\n",
    "\n",
    "    u = p2 - p1\n",
    "    v = p3 - p1\n",
    "\n",
    "    return np.cross(u, v)\n",
    "\n",
    "# calculate face normal but replace a vertex with a new value\n",
    "@njit\n",
    "def get_face_normal_with_vertex_substitution(verts, face, sub_vertex_index, sub_vertex_value):\n",
    "    # get vertices\n",
    "    p1 = verts[face[0]] if face[0] != sub_vertex_index else sub_vertex_value\n",
    "    p2 = verts[face[1]] if face[1] != sub_vertex_index else sub_vertex_value\n",
    "    p3 = verts[face[2]] if face[2] != sub_vertex_index else sub_vertex_value\n",
    "\n",
    "    u = p2 - p1\n",
    "    v = p3 - p1\n",
    "\n",
    "    return np.cross(u, v)"
   ]
  },
  {
   "attachments": {},
   "cell_type": "markdown",
   "metadata": {},
   "source": [
    "# Putting the face normals into their bins\n",
    "We will the face normals into their bins. To prevent that a normal can go into two bins we will find the smallest angle between two bins and half that.\n",
    "This angle will be the angle angle with the bincenter a face normal must be have to be put in that bin"
   ]
  },
  {
   "cell_type": "code",
   "execution_count": 1045,
   "metadata": {},
   "outputs": [],
   "source": [
    "\n",
    "def collect_face_normals(bin_centers, face_normals):\n",
    "    # normalize inputs\n",
    "    normed_bin_centers = np.copy(bin_centers)\n",
    "    for i, center in enumerate(normed_bin_centers):\n",
    "        normed_bin_centers[i] = center / np.linalg.norm(center)\n",
    "\n",
    "    normed_face_normals = np.copy(face_normals)\n",
    "    for i, face_normal in enumerate(normed_face_normals):\n",
    "        normed_face_normals[i] = face_normal / np.linalg.norm(face_normal)\n",
    "\n",
    "    # get the minimum distance between bin centers and half it\n",
    "    max_angle = get_min_radius(normed_bin_centers) / 2.0\n",
    "\n",
    "    # create bins. A list where each element is a list of the indices of the face normals that should go in there.\n",
    "    # note wierd syntax to instruct numba what the data type is by using \"for x in range(0)\"\n",
    "    bins = []\n",
    "    for i in normed_bin_centers:\n",
    "        bins.append([np.int64(x) for x in range(0)])\n",
    "\n",
    "    # for face normal check it it lies less than max_angle away from a bin and if it does put it in that bin.\n",
    "    for i, face_normal in enumerate(normed_face_normals):\n",
    "        for j, bin_center in enumerate(normed_bin_centers):\n",
    "            \n",
    "            angle = np.arccos(np.dot(face_normal, bin_center))\n",
    "            if (angle < max_angle): # if angle is smaller than max_angle then put i in bin j\n",
    "                bins[j].append(i)\n",
    "                break # since a normal can go in at most one bin we can break\n",
    "    \n",
    "    return bins"
   ]
  },
  {
   "attachments": {},
   "cell_type": "markdown",
   "metadata": {},
   "source": [
    "# deriving coordinates in 2D\n",
    "After we have the face normals per bin we need to calculate each of their 2d position relative to the bin center.\n",
    "We do this by apply two rotations to the bin center, first around the x axis and then the y axis, to map the bin center to the z axis.\n",
    "Applying the inverse of this transformation to the x and the y unit vectors gives us the new bases of our 2d coordinate system for that bin.\n",
    "\n",
    "## 2nd attempt at explaining how this works\n",
    "We derive a sequence of to rotations: first by some angle theta around the x axis and second one by some angle gamma around the y axis that will move the bin center to the z axis. This transformation we will call T. By also applying T to the face normals we can effectively get their coordinates in 2D"
   ]
  },
  {
   "cell_type": "code",
   "execution_count": 1046,
   "metadata": {},
   "outputs": [],
   "source": [
    "@njit\n",
    "def get_transformation(bin_center):\n",
    "    x, y, z = bin_center # decompose the input vector\n",
    "    # find angle to rotate around x axis. opposite angle is y coordinate. adjescent angle is the z coordinate\n",
    "    theta = np.arctan2(y, z)\n",
    "\n",
    "    # find angle to rotate around y axis. opposite angle is the x coordinate. adjacent angle is (y**2 + z**2)**0.5\n",
    "    adjacent = np.sqrt(y**2 + z**2)\n",
    "    gamma = -np.arctan2(x, adjacent) # notice we have to negate the angle because we want to rotate against right hand rule\n",
    "\n",
    "    # to get the bin center to the z axis we apply first Rx(theta) then Ry(gamma). So the inverse is first Ry(-gamma) then Rx(-theta)\n",
    "    sin_theta = np.sin(theta)\n",
    "    cos_theta = np.cos(theta)\n",
    "    sin_gamma = np.sin(gamma)\n",
    "    cos_gamma = np.cos(gamma)\n",
    "   \n",
    "    rx = np.array(\n",
    "        [\n",
    "            [1.0, 0.0, 0.0],\n",
    "            [0.0, cos_theta, -sin_theta],\n",
    "            [0.0, sin_theta, cos_theta]\n",
    "        ], dtype=np.float64\n",
    "    )\n",
    "    ry = np.array(\n",
    "        [\n",
    "            [cos_gamma, 0.0, sin_gamma],\n",
    "            [0.0, 1.0, 0.0],\n",
    "            [-sin_gamma, 0.0, cos_gamma]\n",
    "        ], dtype=np.float64\n",
    "    )\n",
    "    \n",
    "    return ry @ rx"
   ]
  },
  {
   "cell_type": "code",
   "execution_count": 1047,
   "metadata": {},
   "outputs": [],
   "source": [
    "# face_normals = get_face_normals(verts, faces) # face normal for face i can be found at facenormals[i]\n",
    "# bin_centers = fibonacci_sphere(secret_length) # bin center for bin i can be found at bin_centers[i]\n",
    "# bins = collect_face_normals(bin_centers, face_normals) # the indices of the face normals in bin i are found in bins[i]\n",
    "# bin_angle_radius = get_min_radius(bin_centers) / 2.0\n",
    "# bin_projection_matrices = [get_transformation(bin_center) for bin_center in bin_centers] # to project a vector into the bases defined by bin i use bin_projection_matrices[i]"
   ]
  },
  {
   "attachments": {},
   "cell_type": "markdown",
   "metadata": {},
   "source": [
    "# normal adjacency list\n",
    "We need to be able to get the face normals of the faces adjacent to point p. For quick access we will create an adjacency list for each vertex in the model. A list of the indices of the faces adjacent to vertex will be found at adjacent_faces[i]"
   ]
  },
  {
   "cell_type": "code",
   "execution_count": 1048,
   "metadata": {},
   "outputs": [],
   "source": [
    "@njit\n",
    "def calculate_adjacent_faces_indices(vertices, faces):\n",
    "    # create the resulting list and populate it with empty lists that will eventually contain the indices of adjacent faces\n",
    "    res = []\n",
    "    for i in range(len(vertices)):\n",
    "        res.append([np.int64(x) for x in range(0)]) # some syntax tricks to indicate to numba what types should be inferred\n",
    "    \n",
    "    for index, face in enumerate(faces): # for each face\n",
    "        for vertex in face: # for each vertex in the face\n",
    "            # append the current face index to list adjacency list of the current vertex\n",
    "            res[vertex].append(index)\n",
    "\n",
    "    return res"
   ]
  },
  {
   "cell_type": "code",
   "execution_count": 1049,
   "metadata": {},
   "outputs": [],
   "source": [
    "# Get bin idx from face idx\n",
    "def calculate_face_to_bin_relation(bins, faces):\n",
    "    res = [-1 for x in range(len(faces))] # each face has in bin -1 initially meaning it not in a bin\n",
    "    # use our list of bins with their contained face normals to populate this result\n",
    "    for bin_idx, bin in enumerate(bins):\n",
    "        for face_idx in bin:\n",
    "            res[face_idx] = bin_idx\n",
    "    return res\n"
   ]
  },
  {
   "attachments": {},
   "cell_type": "markdown",
   "metadata": {},
   "source": [
    "#Optimization Step\n",
    "call hierarchy:  \n",
    "main()  \n",
    "    optimize_vertex()  \n",
    "    cost()  \n",
    "    multidimentional_downhill_simplex()  \n",
    "        costFunc()  \n",
    "        cost()  \n"
   ]
  },
  {
   "cell_type": "code",
   "execution_count": 1050,
   "metadata": {},
   "outputs": [],
   "source": [
    "def get_2D_coordinates(proj_matrix, vector3D):\n",
    "    epsilon = 0.01\n",
    "    projected_vector = proj_matrix @ vector3D\n",
    "    xp = projected_vector[0]\n",
    "    yp = projected_vector[1]\n",
    "    h = projected_vector[2]\n",
    "    l1 = np.arccos(h)\n",
    "    l2 = np.sqrt(xp**2.0 + yp**2.0)\n",
    "    x_ij = 0 if l2 < epsilon else xp * l1 / l2 # not sure why paper wants to do this\n",
    "    y_ij = 0 if l2 < epsilon else yp * l1 / l2 # not sure why paper does this\n",
    "    return np.array([x_ij, y_ij])\n",
    "    "
   ]
  },
  {
   "cell_type": "code",
   "execution_count": 1051,
   "metadata": {},
   "outputs": [],
   "source": [
    "# get bin center of masses\n",
    "def calculate_center_of_mass_2D(bins, normalized_normals, projection_matrices_3Dto2D):\n",
    "    center_of_mass = []\n",
    "    for bin_idx, bin in enumerate(bins):\n",
    "        com = np.array([0.0, 0.0])\n",
    "        count = 0\n",
    "        for normal_idx in bin:\n",
    "            normal = normalized_normals[normal_idx]\n",
    "            proj_matrix = projection_matrices_3Dto2D[bin_idx]\n",
    "            resulting_2D_coords = get_2D_coordinates(proj_matrix, normal)\n",
    "            com = com + resulting_2D_coords\n",
    "            count = count + 1\n",
    "        if count > 0:\n",
    "            center_of_mass.append(com / count)\n",
    "        else:\n",
    "            center_of_mass.append(com)\n",
    "    return center_of_mass"
   ]
  },
  {
   "cell_type": "code",
   "execution_count": 1052,
   "metadata": {},
   "outputs": [],
   "source": [
    "def costs(new_normal_2d, original_normal_2d, bin_number, secret):\n",
    "    delta_max = 0.3 # maximum normal drift in the x direction\n",
    "    w1 = 0.4\n",
    "    w2 = 0.6\n",
    "    x_ij_new = new_normal_2d[0]\n",
    "    y_ij_new = new_normal_2d[1]\n",
    "    x_ij_old = original_normal_2d[0]\n",
    "    y_ij_old = original_normal_2d[1]\n",
    "    r_new = np.sqrt(x_ij_new**2.0 + y_ij_new**2.0)\n",
    "    r_old = np.sqrt(x_ij_old**2.0 + y_ij_old**2.0)\n",
    "    diff = x_ij_new - x_ij_old if secret[bin_number] == 0 else x_ij_old - x_ij_new\n",
    "    c1 = np.abs(r_new - r_old)\n",
    "    c2 = 2 if (np.abs(diff) > delta_max) else delta_max - diff if (0 <= diff) else 1\n",
    "    c = w1 * c1 + w2 * c2\n",
    "    return c"
   ]
  },
  {
   "cell_type": "code",
   "execution_count": 1053,
   "metadata": {},
   "outputs": [],
   "source": [
    "# the cost function to minimize. this is a wrapper for the costs(p) function with some guards\n",
    "def cost_func_builder(current_p_index, delta, secret, vertices, faces, bin_centers, face_normals, face_number_to_bin_number, bin_radius, projection_matrices, adjacent_faces):\n",
    "    def cost_func(new_p_value):\n",
    "        #max_costs = 0\n",
    "        costs_l = []\n",
    "        # if search space exceeded return 2, 2 is the max value for costs\n",
    "        if delta < 0:\n",
    "            return 2\n",
    "        \n",
    "        # a was 5 degrees which is 0.0872665 radians\n",
    "        a = 0.0872665\n",
    "\n",
    "        # b was 10 degrees which is 0.174533 radians\n",
    "        b = 0.174533\n",
    "\n",
    "        # for all triangle normals (TN) adjacent to p\n",
    "        for face_idx in adjacent_faces[current_p_index]:\n",
    "            face = faces[face_idx]\n",
    "            new_TN = normalize(get_face_normal_with_vertex_substitution(vertices, face, current_p_index, new_p_value)) # new normal calculated new p\n",
    "            original_TN = face_normals[face_idx]\n",
    "            original_bin_idx = face_number_to_bin_number[face_idx]\n",
    "\n",
    "            # calculate difference between the new normal as result of new vertex position and original normal\n",
    "            angle_diff = np.arccos(original_TN @ new_TN)\n",
    "\n",
    "            # if TN is not in a bin. This means that original bin is -1\n",
    "            if original_bin_idx == -1:\n",
    "                # if difference between actual TN and original TN > a return 2\n",
    "                if angle_diff > a:\n",
    "                    return 2.0\n",
    "\n",
    "            \n",
    "            # if TN has an original bin.\n",
    "            if original_bin_idx != -1:\n",
    "                # if difference between actual TN and original TN > b  return 2.0\n",
    "                if angle_diff > b:\n",
    "                    return 2.0\n",
    "            \n",
    "                # TN left its original bin return 2\n",
    "                if np.arccos(bin_centers[original_bin_idx] @ new_TN) > bin_radius:\n",
    "                    return 2.0\n",
    "\n",
    "                # if all the constraints pass then we can calculate the actual cost of the face normal\n",
    "                projection_matrix = projection_matrices[original_bin_idx]\n",
    "                new_normal_2d = get_2D_coordinates(projection_matrix, new_TN)\n",
    "                original_normal_2d = get_2D_coordinates(projection_matrix, original_TN)\n",
    "                c = costs(new_normal_2d, original_normal_2d, original_bin_idx, secret)\n",
    "\n",
    "                # if c > max_costs:\n",
    "                #     max_costs = c\n",
    "                costs_l.append(c)\n",
    "\n",
    "        return (sum(costs_l) / len(costs_l)) if (len(costs_l) > 0) else 0\n",
    "    return cost_func"
   ]
  },
  {
   "cell_type": "code",
   "execution_count": 1054,
   "metadata": {},
   "outputs": [],
   "source": [
    "# given a cost function this will find return an improved position for the vertex p\n",
    "def multidimentional_downhill_simplex(p_index, delta, vertices, faces, bin_centers, face_normals, face_number_to_bin_number, bin_radius, projection_matrices, secret, adjacent_faces):\n",
    "    initial_vertex_position = vertices[p_index]\n",
    "    result = minimize(\n",
    "        cost_func_builder(p_index, delta, secret, vertices, faces, bin_centers, face_normals, face_number_to_bin_number, bin_radius, projection_matrices, adjacent_faces),\n",
    "        initial_vertex_position,\n",
    "        method='nelder-mead',\n",
    "        options={\"maxiter\": 30}\n",
    "        )\n",
    "    return result['x']"
   ]
  },
  {
   "cell_type": "code",
   "execution_count": 1055,
   "metadata": {},
   "outputs": [],
   "source": [
    "def optimize_vertex(vertex_number, delta, vertices, faces, bin_centers, face_normals, face_number_to_bin_number, bin_radius, projection_matrices, secret, adjacent_faces):\n",
    "    # initial_cost = costs(p)\n",
    "    p_new = multidimentional_downhill_simplex(vertex_number, delta, vertices, faces, bin_centers, face_normals, face_number_to_bin_number, bin_radius, projection_matrices, secret, adjacent_faces)\n",
    "    vertices[vertex_number] = p_new # update the vertex to the new coordinates"
   ]
  },
  {
   "cell_type": "code",
   "execution_count": 1056,
   "metadata": {},
   "outputs": [],
   "source": [
    "def embed_watermark(vertices, faces, secret):\n",
    "    delta = 20 # initial search range\n",
    "    iterations = 5 # number of iterations\n",
    "    refinements = 3 #number of refinements\n",
    "\n",
    "    # copy vertices so that we do not modify the original array\n",
    "    vertices_new = np.copy(vertices)\n",
    "    faces_new = np.copy(faces) \n",
    "\n",
    "\n",
    "    face_normals = [normalize(x) for x in get_face_normals(vertices_new, faces_new)] # face normal for face i can be found at face_normals[i]\n",
    "    bin_centers = fibonacci_sphere(len(secret)) # bin center for bin i can be found at bin_centers[i]\n",
    "    bins = collect_face_normals(bin_centers, face_normals) # the indices of the face normals in bin i are found in bins[i]\n",
    "    bin_angle_radius = get_min_radius(bin_centers) / 2.0\n",
    "    bin_projection_matrices = [get_transformation(bin_center) for bin_center in bin_centers] # to project a vector into the bases defined by bin i use bin_projection_matrices[i]\n",
    "    face_to_bin = calculate_face_to_bin_relation(bins, faces_new)\n",
    "    center_of_mass = calculate_center_of_mass_2D(bins, face_normals, bin_projection_matrices)\n",
    "    # adjacency list per vertex\n",
    "    adjacent_faces = calculate_adjacent_faces_indices(vertices_new, faces) # indices of adjacent faces to vertex i are found in adjacent_faces[i]\n",
    "\n",
    "\n",
    "    for i in range(iterations):\n",
    "        for vertex_number in tqdm(range(len(vertices_new))): #tqdm sets up a progress bar\n",
    "            for j in range(refinements):\n",
    "                optimize_vertex(\n",
    "                    vertex_number, \n",
    "                    delta, \n",
    "                    vertices_new, \n",
    "                    faces_new, \n",
    "                    bin_centers, \n",
    "                    face_normals, \n",
    "                    face_to_bin, \n",
    "                    bin_angle_radius, \n",
    "                    bin_projection_matrices,\n",
    "                    secret,\n",
    "                    adjacent_faces\n",
    "                )\n",
    "        # delta = delta - 1\n",
    "\n",
    "\n",
    "\n",
    "    face_normals_new = [normalize(x) for x in get_face_normals(vertices_new, faces_new)]\n",
    "    com_after = calculate_center_of_mass_2D(bins, face_normals_new, bin_projection_matrices)\n",
    "    mark = []\n",
    "    for i in range(len(center_of_mass)):\n",
    "        if center_of_mass[i][0] < com_after[i][0]:\n",
    "            mark.append(0)\n",
    "        else:\n",
    "            mark.append(1)\n",
    "\n",
    "    print(mark)\n",
    "    \n",
    "    # Return the vertices and faces of the watermarked mesh. We need to also return the original center of masses for each bin which is needed to retrieve the watermark\n",
    "    return vertices_new, faces_new, center_of_mass\n"
   ]
  },
  {
   "cell_type": "code",
   "execution_count": 1057,
   "metadata": {},
   "outputs": [],
   "source": [
    "def retrieve_watermark(vertices, faces, original_centers_of_mass):\n",
    "    face_normals = [normalize(x) for x in get_face_normals(vertices, faces)] # face normal for face i can be found at face_normals[i]\n",
    "    bin_centers = fibonacci_sphere(len(original_centers_of_mass)) # bin center for bin i can be found at bin_centers[i]\n",
    "    bins = collect_face_normals(bin_centers, face_normals) # the indices of the face normals in bin i are found in bins[i]\n",
    "    bin_projection_matrices = [get_transformation(bin_center) for bin_center in bin_centers] # to project a vector into the bases defined by bin i use bin_projection_matrices[i]\n",
    "    new_centers_of_mass = calculate_center_of_mass_2D(bins, face_normals, bin_projection_matrices)\n",
    "\n",
    "    mark = []\n",
    "    for i in range(len(original_centers_of_mass)):\n",
    "        if original_centers_of_mass[i][0] < new_centers_of_mass[i][0]:\n",
    "            mark.append(0)\n",
    "        else:\n",
    "            mark.append(1)\n",
    "\n",
    "    retrieved_string = np.array(mark)\n",
    "\n",
    "    return retrieved_string"
   ]
  },
  {
   "attachments": {},
   "cell_type": "markdown",
   "metadata": {},
   "source": [
    "## Randomization attack\n",
    "A simple randomization attack that moves every vertex a fixed distance a random direction"
   ]
  },
  {
   "cell_type": "code",
   "execution_count": 1067,
   "metadata": {},
   "outputs": [],
   "source": [
    "def attack_vertices_random(vertices, distance, seed):\n",
    "    n = len(vertices)\n",
    "    np.random.seed(seed)\n",
    "    displacements = [normalize(np.random.rand(3)) * distance for item in vertices]\n",
    "    res = np.copy(vertices)\n",
    "    for i in range(n):\n",
    "        res[i] = res[i] + displacements[i]\n",
    "    \n",
    "    return res"
   ]
  },
  {
   "attachments": {},
   "cell_type": "markdown",
   "metadata": {},
   "source": [
    "# determining if the retrieved watermark is hours\n",
    "The retrieved watermark is likely not a perfect match. Somebins have likely been flipped however most bins should not hav moved much.\n",
    "To determine if the retrieved bitstring is in corralated to the secret bitstring we first assume that the two are independant. Our\n",
    "Null Hypothesis is then that the retrieved bitstring is a random bitstring. If the chance of perceiving at least k matches between the two\n",
    "bitstrings is less than 1 percent we reject the null hypothesis and therefore believe that the secret did indeed watermark the mesh."
   ]
  },
  {
   "cell_type": "code",
   "execution_count": 1059,
   "metadata": {},
   "outputs": [],
   "source": [
    "# calculate the probabilty of getting this result under the null hypothesis. If this probabilty is less than 1% reject the null hypothesis\n",
    "def calculate_match_probability(secret, retrieved_secret):\n",
    "    matches = np.array(secret) == np.array(retrieved_secret)\n",
    "    matching_count = sum(matches)\n",
    "    n = len(matches)\n",
    "    # calculate the probability that a random string matches the secret in more than matching_count positions\n",
    "    probability = sum([math.comb(n, k) for k in range(matching_count, n + 1)]) / 2**n\n",
    "    return probability"
   ]
  },
  {
   "attachments": {},
   "cell_type": "markdown",
   "metadata": {},
   "source": [
    "# Experiment"
   ]
  },
  {
   "cell_type": "code",
   "execution_count": 1089,
   "metadata": {},
   "outputs": [
    {
     "name": "stdout",
     "output_type": "stream",
     "text": [
      "32\n"
     ]
    }
   ],
   "source": [
    "ms = pymeshlab.MeshSet()\n",
    "ms.load_new_mesh(\"bishop.obj\")\n",
    "mesh = ms.current_mesh()\n",
    "\n",
    "verts = mesh.vertex_matrix() # vertex i is found at verts[i]\n",
    "faces = mesh.face_matrix() # face i is found at faces[i] and is a numpy array containing 3 indices representing the 3 vertices\n",
    "\n",
    "secret = [1,1,1,1,1,1,1,1,1,1,1,1,1,1,1,1,1,1,1,1,1,1,1,1,1,1,1,1,1,1,1,1]\n",
    "secret_length = len(secret)\n",
    "print(secret_length)\n",
    "# used just for debugging\n",
    "current_vertex_finger = -1"
   ]
  },
  {
   "cell_type": "code",
   "execution_count": 1061,
   "metadata": {},
   "outputs": [],
   "source": [
    "# embed watermark\n",
    "# result_vertices, result_faces, original_centers_of_mass = embed_watermark(verts, faces, secret)"
   ]
  },
  {
   "cell_type": "code",
   "execution_count": 1062,
   "metadata": {},
   "outputs": [],
   "source": [
    "\n",
    "# attacked_vertices = attack_vertices_random(result_vertices, 0.05, 3000)\n"
   ]
  },
  {
   "cell_type": "code",
   "execution_count": 1063,
   "metadata": {},
   "outputs": [],
   "source": [
    "# retrieved_string = retrieve_watermark(attacked_vertices, faces, original_centers_of_mass)\n",
    "# res = calculate_match_probability(secret, retrieved_string)"
   ]
  },
  {
   "cell_type": "code",
   "execution_count": 1064,
   "metadata": {},
   "outputs": [],
   "source": [
    "def randomization_experiment(vertices, faces, secret, centers_of_mass):\n",
    "    attack_distances = np.linspace(0, 0.5, 20)\n",
    "    runs = 20 # how many times the experiment is run for the same distance. should average over these runs\n",
    "    seed = 5432\n",
    "    averaged_scores = []\n",
    "    for dist in tqdm(attack_distances):\n",
    "        scores = []\n",
    "        for run in range(runs):\n",
    "            attacked_vertices = attack_vertices_random(vertices, dist, seed) # randomization attack\n",
    "            seed = seed + 1 # change seed for next attack\n",
    "            extracted_secret = retrieve_watermark(attacked_vertices, faces, centers_of_mass)\n",
    "            score = calculate_match_probability(secret, extracted_secret)\n",
    "            scores.append(score)\n",
    "\n",
    "        # add the average of the scores to the list\n",
    "        averaged_scores.append(sum(scores) / len(scores))\n",
    "    return (attack_distances, averaged_scores)\n",
    "        \n"
   ]
  },
  {
   "cell_type": "code",
   "execution_count": null,
   "metadata": {},
   "outputs": [],
   "source": [
    "embedded_verts, embedded_faces, centers_of_mass = embed_watermark(verts, faces, secret) # first embed the watermark\n"
   ]
  },
  {
   "cell_type": "code",
   "execution_count": null,
   "metadata": {},
   "outputs": [],
   "source": [
    "distances, scores = randomization_experiment(embedded_verts, embedded_faces, secret, centers_of_mass)"
   ]
  },
  {
   "cell_type": "code",
   "execution_count": null,
   "metadata": {},
   "outputs": [
    {
     "data": {
      "text/plain": [
       "[<matplotlib.lines.Line2D at 0x198b2ca6380>]"
      ]
     },
     "execution_count": 1029,
     "metadata": {},
     "output_type": "execute_result"
    },
    {
     "data": {
      "image/svg+xml": "<?xml version=\"1.0\" encoding=\"utf-8\" standalone=\"no\"?>\n<!DOCTYPE svg PUBLIC \"-//W3C//DTD SVG 1.1//EN\"\n  \"http://www.w3.org/Graphics/SVG/1.1/DTD/svg11.dtd\">\n<svg xmlns:xlink=\"http://www.w3.org/1999/xlink\" width=\"400.785625pt\" height=\"297.190125pt\" viewBox=\"0 0 400.785625 297.190125\" xmlns=\"http://www.w3.org/2000/svg\" version=\"1.1\">\n <metadata>\n  <rdf:RDF xmlns:dc=\"http://purl.org/dc/elements/1.1/\" xmlns:cc=\"http://creativecommons.org/ns#\" xmlns:rdf=\"http://www.w3.org/1999/02/22-rdf-syntax-ns#\">\n   <cc:Work>\n    <dc:type rdf:resource=\"http://purl.org/dc/dcmitype/StillImage\"/>\n    <dc:date>2023-01-18T01:17:01.707839</dc:date>\n    <dc:format>image/svg+xml</dc:format>\n    <dc:creator>\n     <cc:Agent>\n      <dc:title>Matplotlib v3.6.3, https://matplotlib.org/</dc:title>\n     </cc:Agent>\n    </dc:creator>\n   </cc:Work>\n  </rdf:RDF>\n </metadata>\n <defs>\n  <style type=\"text/css\">*{stroke-linejoin: round; stroke-linecap: butt}</style>\n </defs>\n <g id=\"figure_1\">\n  <g id=\"patch_1\">\n   <path d=\"M 0 297.190125 \nL 400.785625 297.190125 \nL 400.785625 0 \nL 0 0 \nz\n\" style=\"fill: #ffffff\"/>\n  </g>\n  <g id=\"axes_1\">\n   <g id=\"patch_2\">\n    <path d=\"M 36.465625 273.312 \nL 393.585625 273.312 \nL 393.585625 7.2 \nL 36.465625 7.2 \nz\n\" style=\"fill: #ffffff\"/>\n   </g>\n   <g id=\"matplotlib.axis_1\">\n    <g id=\"xtick_1\">\n     <g id=\"line2d_1\">\n      <defs>\n       <path id=\"m5e62dab408\" d=\"M 0 0 \nL 0 3.5 \n\" style=\"stroke: #000000; stroke-width: 0.8\"/>\n      </defs>\n      <g>\n       <use xlink:href=\"#m5e62dab408\" x=\"52.698352\" y=\"273.312\" style=\"stroke: #000000; stroke-width: 0.8\"/>\n      </g>\n     </g>\n     <g id=\"text_1\">\n      <!-- 0.0 -->\n      <g transform=\"translate(44.74679 287.910437) scale(0.1 -0.1)\">\n       <defs>\n        <path id=\"DejaVuSans-30\" d=\"M 2034 4250 \nQ 1547 4250 1301 3770 \nQ 1056 3291 1056 2328 \nQ 1056 1369 1301 889 \nQ 1547 409 2034 409 \nQ 2525 409 2770 889 \nQ 3016 1369 3016 2328 \nQ 3016 3291 2770 3770 \nQ 2525 4250 2034 4250 \nz\nM 2034 4750 \nQ 2819 4750 3233 4129 \nQ 3647 3509 3647 2328 \nQ 3647 1150 3233 529 \nQ 2819 -91 2034 -91 \nQ 1250 -91 836 529 \nQ 422 1150 422 2328 \nQ 422 3509 836 4129 \nQ 1250 4750 2034 4750 \nz\n\" transform=\"scale(0.015625)\"/>\n        <path id=\"DejaVuSans-2e\" d=\"M 684 794 \nL 1344 794 \nL 1344 0 \nL 684 0 \nL 684 794 \nz\n\" transform=\"scale(0.015625)\"/>\n       </defs>\n       <use xlink:href=\"#DejaVuSans-30\"/>\n       <use xlink:href=\"#DejaVuSans-2e\" x=\"63.623047\"/>\n       <use xlink:href=\"#DejaVuSans-30\" x=\"95.410156\"/>\n      </g>\n     </g>\n    </g>\n    <g id=\"xtick_2\">\n     <g id=\"line2d_2\">\n      <g>\n       <use xlink:href=\"#m5e62dab408\" x=\"117.629261\" y=\"273.312\" style=\"stroke: #000000; stroke-width: 0.8\"/>\n      </g>\n     </g>\n     <g id=\"text_2\">\n      <!-- 0.1 -->\n      <g transform=\"translate(109.677699 287.910437) scale(0.1 -0.1)\">\n       <defs>\n        <path id=\"DejaVuSans-31\" d=\"M 794 531 \nL 1825 531 \nL 1825 4091 \nL 703 3866 \nL 703 4441 \nL 1819 4666 \nL 2450 4666 \nL 2450 531 \nL 3481 531 \nL 3481 0 \nL 794 0 \nL 794 531 \nz\n\" transform=\"scale(0.015625)\"/>\n       </defs>\n       <use xlink:href=\"#DejaVuSans-30\"/>\n       <use xlink:href=\"#DejaVuSans-2e\" x=\"63.623047\"/>\n       <use xlink:href=\"#DejaVuSans-31\" x=\"95.410156\"/>\n      </g>\n     </g>\n    </g>\n    <g id=\"xtick_3\">\n     <g id=\"line2d_3\">\n      <g>\n       <use xlink:href=\"#m5e62dab408\" x=\"182.56017\" y=\"273.312\" style=\"stroke: #000000; stroke-width: 0.8\"/>\n      </g>\n     </g>\n     <g id=\"text_3\">\n      <!-- 0.2 -->\n      <g transform=\"translate(174.608608 287.910437) scale(0.1 -0.1)\">\n       <defs>\n        <path id=\"DejaVuSans-32\" d=\"M 1228 531 \nL 3431 531 \nL 3431 0 \nL 469 0 \nL 469 531 \nQ 828 903 1448 1529 \nQ 2069 2156 2228 2338 \nQ 2531 2678 2651 2914 \nQ 2772 3150 2772 3378 \nQ 2772 3750 2511 3984 \nQ 2250 4219 1831 4219 \nQ 1534 4219 1204 4116 \nQ 875 4013 500 3803 \nL 500 4441 \nQ 881 4594 1212 4672 \nQ 1544 4750 1819 4750 \nQ 2544 4750 2975 4387 \nQ 3406 4025 3406 3419 \nQ 3406 3131 3298 2873 \nQ 3191 2616 2906 2266 \nQ 2828 2175 2409 1742 \nQ 1991 1309 1228 531 \nz\n\" transform=\"scale(0.015625)\"/>\n       </defs>\n       <use xlink:href=\"#DejaVuSans-30\"/>\n       <use xlink:href=\"#DejaVuSans-2e\" x=\"63.623047\"/>\n       <use xlink:href=\"#DejaVuSans-32\" x=\"95.410156\"/>\n      </g>\n     </g>\n    </g>\n    <g id=\"xtick_4\">\n     <g id=\"line2d_4\">\n      <g>\n       <use xlink:href=\"#m5e62dab408\" x=\"247.49108\" y=\"273.312\" style=\"stroke: #000000; stroke-width: 0.8\"/>\n      </g>\n     </g>\n     <g id=\"text_4\">\n      <!-- 0.3 -->\n      <g transform=\"translate(239.539517 287.910437) scale(0.1 -0.1)\">\n       <defs>\n        <path id=\"DejaVuSans-33\" d=\"M 2597 2516 \nQ 3050 2419 3304 2112 \nQ 3559 1806 3559 1356 \nQ 3559 666 3084 287 \nQ 2609 -91 1734 -91 \nQ 1441 -91 1130 -33 \nQ 819 25 488 141 \nL 488 750 \nQ 750 597 1062 519 \nQ 1375 441 1716 441 \nQ 2309 441 2620 675 \nQ 2931 909 2931 1356 \nQ 2931 1769 2642 2001 \nQ 2353 2234 1838 2234 \nL 1294 2234 \nL 1294 2753 \nL 1863 2753 \nQ 2328 2753 2575 2939 \nQ 2822 3125 2822 3475 \nQ 2822 3834 2567 4026 \nQ 2313 4219 1838 4219 \nQ 1578 4219 1281 4162 \nQ 984 4106 628 3988 \nL 628 4550 \nQ 988 4650 1302 4700 \nQ 1616 4750 1894 4750 \nQ 2613 4750 3031 4423 \nQ 3450 4097 3450 3541 \nQ 3450 3153 3228 2886 \nQ 3006 2619 2597 2516 \nz\n\" transform=\"scale(0.015625)\"/>\n       </defs>\n       <use xlink:href=\"#DejaVuSans-30\"/>\n       <use xlink:href=\"#DejaVuSans-2e\" x=\"63.623047\"/>\n       <use xlink:href=\"#DejaVuSans-33\" x=\"95.410156\"/>\n      </g>\n     </g>\n    </g>\n    <g id=\"xtick_5\">\n     <g id=\"line2d_5\">\n      <g>\n       <use xlink:href=\"#m5e62dab408\" x=\"312.421989\" y=\"273.312\" style=\"stroke: #000000; stroke-width: 0.8\"/>\n      </g>\n     </g>\n     <g id=\"text_5\">\n      <!-- 0.4 -->\n      <g transform=\"translate(304.470426 287.910437) scale(0.1 -0.1)\">\n       <defs>\n        <path id=\"DejaVuSans-34\" d=\"M 2419 4116 \nL 825 1625 \nL 2419 1625 \nL 2419 4116 \nz\nM 2253 4666 \nL 3047 4666 \nL 3047 1625 \nL 3713 1625 \nL 3713 1100 \nL 3047 1100 \nL 3047 0 \nL 2419 0 \nL 2419 1100 \nL 313 1100 \nL 313 1709 \nL 2253 4666 \nz\n\" transform=\"scale(0.015625)\"/>\n       </defs>\n       <use xlink:href=\"#DejaVuSans-30\"/>\n       <use xlink:href=\"#DejaVuSans-2e\" x=\"63.623047\"/>\n       <use xlink:href=\"#DejaVuSans-34\" x=\"95.410156\"/>\n      </g>\n     </g>\n    </g>\n    <g id=\"xtick_6\">\n     <g id=\"line2d_6\">\n      <g>\n       <use xlink:href=\"#m5e62dab408\" x=\"377.352898\" y=\"273.312\" style=\"stroke: #000000; stroke-width: 0.8\"/>\n      </g>\n     </g>\n     <g id=\"text_6\">\n      <!-- 0.5 -->\n      <g transform=\"translate(369.401335 287.910437) scale(0.1 -0.1)\">\n       <defs>\n        <path id=\"DejaVuSans-35\" d=\"M 691 4666 \nL 3169 4666 \nL 3169 4134 \nL 1269 4134 \nL 1269 2991 \nQ 1406 3038 1543 3061 \nQ 1681 3084 1819 3084 \nQ 2600 3084 3056 2656 \nQ 3513 2228 3513 1497 \nQ 3513 744 3044 326 \nQ 2575 -91 1722 -91 \nQ 1428 -91 1123 -41 \nQ 819 9 494 109 \nL 494 744 \nQ 775 591 1075 516 \nQ 1375 441 1709 441 \nQ 2250 441 2565 725 \nQ 2881 1009 2881 1497 \nQ 2881 1984 2565 2268 \nQ 2250 2553 1709 2553 \nQ 1456 2553 1204 2497 \nQ 953 2441 691 2322 \nL 691 4666 \nz\n\" transform=\"scale(0.015625)\"/>\n       </defs>\n       <use xlink:href=\"#DejaVuSans-30\"/>\n       <use xlink:href=\"#DejaVuSans-2e\" x=\"63.623047\"/>\n       <use xlink:href=\"#DejaVuSans-35\" x=\"95.410156\"/>\n      </g>\n     </g>\n    </g>\n   </g>\n   <g id=\"matplotlib.axis_2\">\n    <g id=\"ytick_1\">\n     <g id=\"line2d_7\">\n      <defs>\n       <path id=\"m11cd19bb11\" d=\"M 0 0 \nL -3.5 0 \n\" style=\"stroke: #000000; stroke-width: 0.8\"/>\n      </defs>\n      <g>\n       <use xlink:href=\"#m11cd19bb11\" x=\"36.465625\" y=\"261.216008\" style=\"stroke: #000000; stroke-width: 0.8\"/>\n      </g>\n     </g>\n     <g id=\"text_7\">\n      <!-- 0.00 -->\n      <g transform=\"translate(7.2 265.015227) scale(0.1 -0.1)\">\n       <use xlink:href=\"#DejaVuSans-30\"/>\n       <use xlink:href=\"#DejaVuSans-2e\" x=\"63.623047\"/>\n       <use xlink:href=\"#DejaVuSans-30\" x=\"95.410156\"/>\n       <use xlink:href=\"#DejaVuSans-30\" x=\"159.033203\"/>\n      </g>\n     </g>\n    </g>\n    <g id=\"ytick_2\">\n     <g id=\"line2d_8\">\n      <g>\n       <use xlink:href=\"#m11cd19bb11\" x=\"36.465625\" y=\"207.582485\" style=\"stroke: #000000; stroke-width: 0.8\"/>\n      </g>\n     </g>\n     <g id=\"text_8\">\n      <!-- 0.05 -->\n      <g transform=\"translate(7.2 211.381703) scale(0.1 -0.1)\">\n       <use xlink:href=\"#DejaVuSans-30\"/>\n       <use xlink:href=\"#DejaVuSans-2e\" x=\"63.623047\"/>\n       <use xlink:href=\"#DejaVuSans-30\" x=\"95.410156\"/>\n       <use xlink:href=\"#DejaVuSans-35\" x=\"159.033203\"/>\n      </g>\n     </g>\n    </g>\n    <g id=\"ytick_3\">\n     <g id=\"line2d_9\">\n      <g>\n       <use xlink:href=\"#m11cd19bb11\" x=\"36.465625\" y=\"153.948961\" style=\"stroke: #000000; stroke-width: 0.8\"/>\n      </g>\n     </g>\n     <g id=\"text_9\">\n      <!-- 0.10 -->\n      <g transform=\"translate(7.2 157.74818) scale(0.1 -0.1)\">\n       <use xlink:href=\"#DejaVuSans-30\"/>\n       <use xlink:href=\"#DejaVuSans-2e\" x=\"63.623047\"/>\n       <use xlink:href=\"#DejaVuSans-31\" x=\"95.410156\"/>\n       <use xlink:href=\"#DejaVuSans-30\" x=\"159.033203\"/>\n      </g>\n     </g>\n    </g>\n    <g id=\"ytick_4\">\n     <g id=\"line2d_10\">\n      <g>\n       <use xlink:href=\"#m11cd19bb11\" x=\"36.465625\" y=\"100.315438\" style=\"stroke: #000000; stroke-width: 0.8\"/>\n      </g>\n     </g>\n     <g id=\"text_10\">\n      <!-- 0.15 -->\n      <g transform=\"translate(7.2 104.114656) scale(0.1 -0.1)\">\n       <use xlink:href=\"#DejaVuSans-30\"/>\n       <use xlink:href=\"#DejaVuSans-2e\" x=\"63.623047\"/>\n       <use xlink:href=\"#DejaVuSans-31\" x=\"95.410156\"/>\n       <use xlink:href=\"#DejaVuSans-35\" x=\"159.033203\"/>\n      </g>\n     </g>\n    </g>\n    <g id=\"ytick_5\">\n     <g id=\"line2d_11\">\n      <g>\n       <use xlink:href=\"#m11cd19bb11\" x=\"36.465625\" y=\"46.681914\" style=\"stroke: #000000; stroke-width: 0.8\"/>\n      </g>\n     </g>\n     <g id=\"text_11\">\n      <!-- 0.20 -->\n      <g transform=\"translate(7.2 50.481133) scale(0.1 -0.1)\">\n       <use xlink:href=\"#DejaVuSans-30\"/>\n       <use xlink:href=\"#DejaVuSans-2e\" x=\"63.623047\"/>\n       <use xlink:href=\"#DejaVuSans-32\" x=\"95.410156\"/>\n       <use xlink:href=\"#DejaVuSans-30\" x=\"159.033203\"/>\n      </g>\n     </g>\n    </g>\n   </g>\n   <g id=\"line2d_12\">\n    <path d=\"M 52.698352 261.216 \nL 69.785434 261.089662 \nL 86.872515 250.906211 \nL 103.959596 230.753184 \nL 121.046678 157.645063 \nL 138.133759 121.85824 \nL 155.22084 92.3825 \nL 172.307922 121.901349 \nL 189.395003 36.949449 \nL 206.482084 82.204074 \nL 223.569166 64.200364 \nL 240.656247 32.930887 \nL 257.743328 19.296 \nL 274.83041 73.241455 \nL 291.917491 100.119208 \nL 309.004572 56.949979 \nL 326.091654 78.586627 \nL 343.178735 101.606466 \nL 360.265816 78.08919 \nL 377.352898 52.736079 \n\" clip-path=\"url(#pa141cf0748)\" style=\"fill: none; stroke: #1f77b4; stroke-width: 1.5; stroke-linecap: square\"/>\n   </g>\n   <g id=\"patch_3\">\n    <path d=\"M 36.465625 273.312 \nL 36.465625 7.2 \n\" style=\"fill: none; stroke: #000000; stroke-width: 0.8; stroke-linejoin: miter; stroke-linecap: square\"/>\n   </g>\n   <g id=\"patch_4\">\n    <path d=\"M 393.585625 273.312 \nL 393.585625 7.2 \n\" style=\"fill: none; stroke: #000000; stroke-width: 0.8; stroke-linejoin: miter; stroke-linecap: square\"/>\n   </g>\n   <g id=\"patch_5\">\n    <path d=\"M 36.465625 273.312 \nL 393.585625 273.312 \n\" style=\"fill: none; stroke: #000000; stroke-width: 0.8; stroke-linejoin: miter; stroke-linecap: square\"/>\n   </g>\n   <g id=\"patch_6\">\n    <path d=\"M 36.465625 7.2 \nL 393.585625 7.2 \n\" style=\"fill: none; stroke: #000000; stroke-width: 0.8; stroke-linejoin: miter; stroke-linecap: square\"/>\n   </g>\n  </g>\n </g>\n <defs>\n  <clipPath id=\"pa141cf0748\">\n   <rect x=\"36.465625\" y=\"7.2\" width=\"357.12\" height=\"266.112\"/>\n  </clipPath>\n </defs>\n</svg>\n",
      "text/plain": [
       "<Figure size 640x480 with 1 Axes>"
      ]
     },
     "metadata": {},
     "output_type": "display_data"
    }
   ],
   "source": [
    "\n",
    "\n",
    "pyplot.plot(distances, scores)\n"
   ]
  },
  {
   "cell_type": "code",
   "execution_count": 1098,
   "metadata": {},
   "outputs": [],
   "source": [
    "def secret_length_experiment(vertices, faces):\n",
    "    xs = list(range(64, 128, 8)) # the length of the secret\n",
    "    runs = 5 # how many times the experiment is run for the same distance. should average over these runs\n",
    "    seed = 5432\n",
    "    attack_distance = 0.01\n",
    "    ys = []\n",
    "    for key_length in tqdm(xs):\n",
    "        scores = []\n",
    "        for run in range(runs):\n",
    "            key = np.ones(int(key_length))\n",
    "            marked_verts, marked_faces, centers_of_mass = embed_watermark(vertices, faces, key) # first embed the watermark\n",
    "\n",
    "            attacked_vertices = attack_vertices_random(marked_verts, attack_distance, seed) # randomization attack\n",
    "            seed = seed + 1 # change seed for next attack\n",
    "            extracted_secret = retrieve_watermark(attacked_vertices, faces, centers_of_mass)\n",
    "            score = calculate_match_probability(key, extracted_secret)\n",
    "            scores.append(score)\n",
    "\n",
    "        # add the average of the scores to the list\n",
    "        ys.append(sum(scores) / len(scores))\n",
    "    return (xs, ys)"
   ]
  },
  {
   "cell_type": "code",
   "execution_count": null,
   "metadata": {},
   "outputs": [],
   "source": [
    "xs, ys = secret_length_experiment(verts, faces)"
   ]
  },
  {
   "cell_type": "code",
   "execution_count": 1101,
   "metadata": {},
   "outputs": [
    {
     "data": {
      "text/plain": [
       "[2.4613128152370216e-05,\n",
       " 1.3753310269125764e-06,\n",
       " 1.8589254322534538e-07,\n",
       " 5.321711702864933e-06,\n",
       " 2.9494822301267367e-05,\n",
       " 1.4337786063673886e-05,\n",
       " 1.9933532240097227e-05,\n",
       " 3.19929274643322e-09]"
      ]
     },
     "execution_count": 1101,
     "metadata": {},
     "output_type": "execute_result"
    }
   ],
   "source": [
    "ys"
   ]
  },
  {
   "cell_type": "code",
   "execution_count": 1102,
   "metadata": {},
   "outputs": [],
   "source": [
    "# attack distance was 0.01 and all the attacks had different seed. each score is the average over 5 runs\n",
    "varying_key_lengths2 = [64, 72, 80, 88, 96, 104, 112, 120]\n",
    "varying_key_length_scores2 = [\n",
    "    2.4613128152370216e-05,\n",
    "    1.3753310269125764e-06,\n",
    "    1.8589254322534538e-07,\n",
    "    5.321711702864933e-06,\n",
    "    2.9494822301267367e-05,\n",
    "    1.4337786063673886e-05,\n",
    "    1.9933532240097227e-05,\n",
    "    3.19929274643322e-09]\n",
    "\n",
    "# attack distance was 0.01 and all the attacks had different seed. each score is the average over 5 runs\n",
    "varying_key_lengths = [\n",
    "    5,\n",
    "    6,\n",
    "    7,\n",
    "    8,\n",
    "    9,\n",
    "    10,\n",
    "    11,\n",
    "    12,\n",
    "    13,\n",
    "    14,\n",
    "    15,\n",
    "    16,\n",
    "    17,\n",
    "    18,\n",
    "    19,\n",
    "    20,\n",
    "    21,\n",
    "    22,\n",
    "    23,\n",
    "    24,\n",
    "    25,\n",
    "    26,\n",
    "    27,\n",
    "    28,\n",
    "    29,\n",
    "    30,\n",
    "    31,\n",
    "    32,\n",
    "    33,\n",
    "    34,\n",
    "    35,\n",
    "    36,\n",
    "    37,\n",
    "    38,\n",
    "    39,\n",
    "    40,\n",
    "    41,\n",
    "    42,\n",
    "    43,\n",
    "    44,\n",
    "    45,\n",
    "    46,\n",
    "    47,\n",
    "    48,\n",
    "    49,\n",
    "    50,\n",
    "    51,\n",
    "    52,\n",
    "    53,\n",
    "    54,\n",
    "    55,\n",
    "    56,\n",
    "    57,\n",
    "    58,\n",
    "    59,\n",
    "    60,\n",
    "    61,\n",
    "    62,\n",
    "    63]\n",
    "varying_key_length_scores = [\n",
    "    0.03125,\n",
    "    0.053125,\n",
    "    0.0078125,\n",
    "    0.00390625,\n",
    "    0.001953125,\n",
    "    0.0009765625,\n",
    "    0.00048828125,\n",
    "    0.000244140625,\n",
    "    0.001708984375,\n",
    "    0.00185546875,\n",
    "    0.002410888671875,\n",
    "    0.0001129150390625,\n",
    "    7.62939453125e-06,\n",
    "    3.814697265625e-06,\n",
    "    9.1552734375e-06,\n",
    "    0.0005197525024414062,\n",
    "    0.00023746490478515625,\n",
    "    0.0005221366882324219,\n",
    "    2.312660217285156e-06,\n",
    "    3.219842910766602e-05,\n",
    "    3.534555435180664e-05,\n",
    "    1.6987323760986329e-07,\n",
    "    5.707144737243652e-07,\n",
    "    6.3978135585784915e-06,\n",
    "    5.79833984375e-05,\n",
    "    1.043081283569336e-07,\n",
    "    6.886199116706848e-06,\n",
    "    2.2596213966608047e-06,\n",
    "    3.431783989071846e-06,\n",
    "    7.705064490437508e-07,\n",
    "    1.7075217328965664e-07,\n",
    "    2.865272108465433e-08,\n",
    "    1.341817551292479e-07,\n",
    "    5.597226845566183e-07,\n",
    "    1.0448784451000393e-07,\n",
    "    1.0138066500076092e-06,\n",
    "    2.465534635121003e-07,\n",
    "    2.293745637871325e-09,\n",
    "    3.1317085813498124e-09,\n",
    "    5.7911643125407865e-08,\n",
    "    5.621776608677465e-08,\n",
    "    1.9252243816936242e-07,\n",
    "    2.5285731325652706e-06,\n",
    "    2.1946914834813926e-06,\n",
    "    1.555259969947542e-05,\n",
    "    5.711858488410826e-07,\n",
    "    1.6159703264406744e-07,\n",
    "    1.3553069635463544e-06,\n",
    "    4.158851707458666e-09,\n",
    "    1.8859686095051842e-06,\n",
    "    5.5357716799431245e-08,\n",
    "    1.85352950626827e-07,\n",
    "    4.2466138305136125e-07,\n",
    "    1.0776873615725435e-08,\n",
    "    2.589912086181645e-07,\n",
    "    1.3982240510759802e-06,\n",
    "    2.9813126864611758e-06,\n",
    "    7.251385393341548e-06,\n",
    "    7.612654095823278e-06]"
   ]
  },
  {
   "cell_type": "code",
   "execution_count": 1,
   "metadata": {},
   "outputs": [
    {
     "ename": "NameError",
     "evalue": "name 'pyplot' is not defined",
     "output_type": "error",
     "traceback": [
      "\u001b[1;31m---------------------------------------------------------------------------\u001b[0m",
      "\u001b[1;31mNameError\u001b[0m                                 Traceback (most recent call last)",
      "Cell \u001b[1;32mIn [1], line 1\u001b[0m\n\u001b[1;32m----> 1\u001b[0m pyplot\u001b[39m.\u001b[39mplot(varying_key_lengths2 \u001b[39m+\u001b[39m varying_key_lengths2,varying_key_lengths \u001b[39m+\u001b[39m varying_key_length_scores2)\n",
      "\u001b[1;31mNameError\u001b[0m: name 'pyplot' is not defined"
     ]
    }
   ],
   "source": [
    "pyplot.plot(varying_key_lengths2 + varying_key_lengths2,varying_key_lengths + varying_key_length_scores2)"
   ]
  },
  {
   "cell_type": "code",
   "execution_count": null,
   "metadata": {},
   "outputs": [],
   "source": []
  }
 ],
 "metadata": {
  "kernelspec": {
   "display_name": "Python 3",
   "language": "python",
   "name": "python3"
  },
  "language_info": {
   "codemirror_mode": {
    "name": "ipython",
    "version": 3
   },
   "file_extension": ".py",
   "mimetype": "text/x-python",
   "name": "python",
   "nbconvert_exporter": "python",
   "pygments_lexer": "ipython3",
   "version": "3.10.6"
  },
  "orig_nbformat": 4,
  "vscode": {
   "interpreter": {
    "hash": "2a12d51c86ae5a9e0728790e9f226ac055370ed14b27e8d69cccd17f51d83081"
   }
  }
 },
 "nbformat": 4,
 "nbformat_minor": 2
}
