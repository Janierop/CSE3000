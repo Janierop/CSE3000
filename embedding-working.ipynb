{
 "cells": [
  {
   "cell_type": "code",
   "execution_count": 1040,
   "metadata": {},
   "outputs": [],
   "source": [
    "import pymeshlab\n",
    "import numpy as np\n",
    "import typing\n",
    "from scipy.optimize import minimize\n",
    "from numba import jit, njit\n",
    "import math\n",
    "from tqdm.notebook import tqdm"
   ]
  },
  {
   "cell_type": "code",
   "execution_count": 1041,
   "metadata": {},
   "outputs": [],
   "source": [
    "def save_mesh(verts, faces, file_name):\n",
    "    saving_mesh = pymeshlab.Mesh(verts, faces)\n",
    "    saving_meshset = pymeshlab.MeshSet()\n",
    "    saving_meshset.add_mesh(saving_mesh)\n",
    "    saving_meshset.save_current_mesh(file_name, save_vertex_normal=False, save_vertex_color=False)"
   ]
  },
  {
   "attachments": {},
   "cell_type": "markdown",
   "metadata": {},
   "source": [
    "# generate bin structure\n",
    "we generate bins by tesalating a sphere to get the bin centers.\n",
    "We will use a fibbonacci sphere for this because it has some nice properties:\n",
    "- very evenly spaced spoints\n",
    "- arbitrary amount of points\n",
    "- simple algorithm\n",
    "- deterministic sequence of points"
   ]
  },
  {
   "cell_type": "code",
   "execution_count": 1042,
   "metadata": {},
   "outputs": [],
   "source": [
    "@njit\n",
    "def fibonacci_sphere(n):\n",
    "    goldenRatio = (1 + 5**0.5)/2\n",
    "    i = np.arange(0, n)\n",
    "    theta = 2 * np.pi * i / goldenRatio\n",
    "    phi = np.arccos(1 - 2*(i+0.5)/n)\n",
    "    x, y, z = np.cos(theta) * np.sin(phi), np.sin(theta) * np.sin(phi), np.cos(phi)\n",
    "\n",
    "    return np.column_stack((x,y,z))"
   ]
  },
  {
   "attachments": {},
   "cell_type": "markdown",
   "metadata": {},
   "source": [
    "# Get radius of bins\n",
    "We get the radius (in radians) of bins by taking taking the smallest angle between two bin centers.  \n",
    "We get the smallest distance by brute force which means that with very large number of bins this becomes\n",
    "extremely computationally expensive.\n",
    "\n",
    "to get the angle theta between two vectors we use the fact that theta is equal to arccos(a dot b / (|a|*|b|))"
   ]
  },
  {
   "cell_type": "code",
   "execution_count": 1043,
   "metadata": {},
   "outputs": [],
   "source": [
    "@njit\n",
    "def get_min_radius(verts):\n",
    "    min = np.finfo(np.float64).max\n",
    "    for i in range(len(verts)):\n",
    "        for j in range(len(verts)):\n",
    "            if (i != j): # dont compare a point to itself\n",
    "                a = verts[i]\n",
    "                b = verts[j]\n",
    "                # get angle distance\n",
    "                dist = np.arccos(a @ b)\n",
    "                if dist < min: min = dist # if this is the smallest so far then update\n",
    "    return min"
   ]
  },
  {
   "attachments": {},
   "cell_type": "markdown",
   "metadata": {},
   "source": [
    "# Calculating face normals\n",
    "Since we want to put all the face normals into their correct bins we first need to calculate each normal of each face.\n",
    "We do this by doing the cross product way"
   ]
  },
  {
   "cell_type": "code",
   "execution_count": 1044,
   "metadata": {},
   "outputs": [],
   "source": [
    "@njit\n",
    "def normalize(vector):\n",
    "    cp = np.copy(vector)\n",
    "    return cp / np.linalg.norm(cp)\n",
    "@njit\n",
    "def get_face_normals(verts, faces):\n",
    "    tmp = np.zeros((len(faces), 3), dtype=np.float64)\n",
    "    #arr = [get_normal(verts, face) for face in faces]\n",
    "    for i, face in enumerate(faces):\n",
    "        tmp[i] = get_face_normal(verts, face)\n",
    "    return tmp\n",
    "    \n",
    "@njit\n",
    "def get_face_normal(verts, face):\n",
    "    # get vertices\n",
    "    p1 = verts[face[0]]\n",
    "    p2 = verts[face[1]]\n",
    "    p3 = verts[face[2]]\n",
    "\n",
    "    u = p2 - p1\n",
    "    v = p3 - p1\n",
    "\n",
    "    return np.cross(u, v)\n",
    "\n",
    "# calculate face normal but replace a vertex with a new value\n",
    "@njit\n",
    "def get_face_normal_with_vertex_substitution(verts, face, sub_vertex_index, sub_vertex_value):\n",
    "    # get vertices\n",
    "    p1 = verts[face[0]] if face[0] != sub_vertex_index else sub_vertex_value\n",
    "    p2 = verts[face[1]] if face[1] != sub_vertex_index else sub_vertex_value\n",
    "    p3 = verts[face[2]] if face[2] != sub_vertex_index else sub_vertex_value\n",
    "\n",
    "    u = p2 - p1\n",
    "    v = p3 - p1\n",
    "\n",
    "    return np.cross(u, v)"
   ]
  },
  {
   "attachments": {},
   "cell_type": "markdown",
   "metadata": {},
   "source": [
    "# Putting the face normals into their bins\n",
    "We will the face normals into their bins. To prevent that a normal can go into two bins we will find the smallest angle between two bins and half that.\n",
    "This angle will be the angle angle with the bincenter a face normal must be have to be put in that bin"
   ]
  },
  {
   "cell_type": "code",
   "execution_count": 1045,
   "metadata": {},
   "outputs": [],
   "source": [
    "\n",
    "def collect_face_normals(bin_centers, face_normals):\n",
    "    # normalize inputs\n",
    "    normed_bin_centers = np.copy(bin_centers)\n",
    "    for i, center in enumerate(normed_bin_centers):\n",
    "        normed_bin_centers[i] = center / np.linalg.norm(center)\n",
    "\n",
    "    normed_face_normals = np.copy(face_normals)\n",
    "    for i, face_normal in enumerate(normed_face_normals):\n",
    "        normed_face_normals[i] = face_normal / np.linalg.norm(face_normal)\n",
    "\n",
    "    # get the minimum distance between bin centers and half it\n",
    "    max_angle = get_min_radius(normed_bin_centers) / 2.0\n",
    "\n",
    "    # create bins. A list where each element is a list of the indices of the face normals that should go in there.\n",
    "    # note wierd syntax to instruct numba what the data type is by using \"for x in range(0)\"\n",
    "    bins = []\n",
    "    for i in normed_bin_centers:\n",
    "        bins.append([np.int64(x) for x in range(0)])\n",
    "\n",
    "    # for face normal check it it lies less than max_angle away from a bin and if it does put it in that bin.\n",
    "    for i, face_normal in enumerate(normed_face_normals):\n",
    "        for j, bin_center in enumerate(normed_bin_centers):\n",
    "            \n",
    "            angle = np.arccos(np.dot(face_normal, bin_center))\n",
    "            if (angle < max_angle): # if angle is smaller than max_angle then put i in bin j\n",
    "                bins[j].append(i)\n",
    "                break # since a normal can go in at most one bin we can break\n",
    "    \n",
    "    return bins"
   ]
  },
  {
   "attachments": {},
   "cell_type": "markdown",
   "metadata": {},
   "source": [
    "# deriving coordinates in 2D\n",
    "After we have the face normals per bin we need to calculate each of their 2d position relative to the bin center.\n",
    "We do this by apply two rotations to the bin center, first around the x axis and then the y axis, to map the bin center to the z axis.\n",
    "Applying the inverse of this transformation to the x and the y unit vectors gives us the new bases of our 2d coordinate system for that bin.\n",
    "\n",
    "## 2nd attempt at explaining how this works\n",
    "We derive a sequence of to rotations: first by some angle theta around the x axis and second one by some angle gamma around the y axis that will move the bin center to the z axis. This transformation we will call T. By also applying T to the face normals we can effectively get their coordinates in 2D"
   ]
  },
  {
   "cell_type": "code",
   "execution_count": 1046,
   "metadata": {},
   "outputs": [],
   "source": [
    "@njit\n",
    "def get_transformation(bin_center):\n",
    "    x, y, z = bin_center # decompose the input vector\n",
    "    # find angle to rotate around x axis. opposite angle is y coordinate. adjescent angle is the z coordinate\n",
    "    theta = np.arctan2(y, z)\n",
    "\n",
    "    # find angle to rotate around y axis. opposite angle is the x coordinate. adjacent angle is (y**2 + z**2)**0.5\n",
    "    adjacent = np.sqrt(y**2 + z**2)\n",
    "    gamma = -np.arctan2(x, adjacent) # notice we have to negate the angle because we want to rotate against right hand rule\n",
    "\n",
    "    # to get the bin center to the z axis we apply first Rx(theta) then Ry(gamma). So the inverse is first Ry(-gamma) then Rx(-theta)\n",
    "    sin_theta = np.sin(theta)\n",
    "    cos_theta = np.cos(theta)\n",
    "    sin_gamma = np.sin(gamma)\n",
    "    cos_gamma = np.cos(gamma)\n",
    "   \n",
    "    rx = np.array(\n",
    "        [\n",
    "            [1.0, 0.0, 0.0],\n",
    "            [0.0, cos_theta, -sin_theta],\n",
    "            [0.0, sin_theta, cos_theta]\n",
    "        ], dtype=np.float64\n",
    "    )\n",
    "    ry = np.array(\n",
    "        [\n",
    "            [cos_gamma, 0.0, sin_gamma],\n",
    "            [0.0, 1.0, 0.0],\n",
    "            [-sin_gamma, 0.0, cos_gamma]\n",
    "        ], dtype=np.float64\n",
    "    )\n",
    "    \n",
    "    return ry @ rx"
   ]
  },
  {
   "cell_type": "code",
   "execution_count": 1047,
   "metadata": {},
   "outputs": [],
   "source": [
    "# face_normals = get_face_normals(verts, faces) # face normal for face i can be found at facenormals[i]\n",
    "# bin_centers = fibonacci_sphere(secret_length) # bin center for bin i can be found at bin_centers[i]\n",
    "# bins = collect_face_normals(bin_centers, face_normals) # the indices of the face normals in bin i are found in bins[i]\n",
    "# bin_angle_radius = get_min_radius(bin_centers) / 2.0\n",
    "# bin_projection_matrices = [get_transformation(bin_center) for bin_center in bin_centers] # to project a vector into the bases defined by bin i use bin_projection_matrices[i]"
   ]
  },
  {
   "attachments": {},
   "cell_type": "markdown",
   "metadata": {},
   "source": [
    "# normal adjacency list\n",
    "We need to be able to get the face normals of the faces adjacent to point p. For quick access we will create an adjacency list for each vertex in the model. A list of the indices of the faces adjacent to vertex will be found at adjacent_faces[i]"
   ]
  },
  {
   "cell_type": "code",
   "execution_count": 1048,
   "metadata": {},
   "outputs": [],
   "source": [
    "@njit\n",
    "def calculate_adjacent_faces_indices(vertices, faces):\n",
    "    # create the resulting list and populate it with empty lists that will eventually contain the indices of adjacent faces\n",
    "    res = []\n",
    "    for i in range(len(vertices)):\n",
    "        res.append([np.int64(x) for x in range(0)]) # some syntax tricks to indicate to numba what types should be inferred\n",
    "    \n",
    "    for index, face in enumerate(faces): # for each face\n",
    "        for vertex in face: # for each vertex in the face\n",
    "            # append the current face index to list adjacency list of the current vertex\n",
    "            res[vertex].append(index)\n",
    "\n",
    "    return res"
   ]
  },
  {
   "cell_type": "code",
   "execution_count": 1049,
   "metadata": {},
   "outputs": [],
   "source": [
    "# Get bin idx from face idx\n",
    "def calculate_face_to_bin_relation(bins, faces):\n",
    "    res = [-1 for x in range(len(faces))] # each face has in bin -1 initially meaning it not in a bin\n",
    "    # use our list of bins with their contained face normals to populate this result\n",
    "    for bin_idx, bin in enumerate(bins):\n",
    "        for face_idx in bin:\n",
    "            res[face_idx] = bin_idx\n",
    "    return res\n"
   ]
  },
  {
   "attachments": {},
   "cell_type": "markdown",
   "metadata": {},
   "source": [
    "#Optimization Step\n",
    "call hierarchy:  \n",
    "main()  \n",
    "    optimize_vertex()  \n",
    "    cost()  \n",
    "    multidimentional_downhill_simplex()  \n",
    "        costFunc()  \n",
    "        cost()  \n"
   ]
  },
  {
   "cell_type": "code",
   "execution_count": 1050,
   "metadata": {},
   "outputs": [],
   "source": [
    "def get_2D_coordinates(proj_matrix, vector3D):\n",
    "    epsilon = 0.01\n",
    "    projected_vector = proj_matrix @ vector3D\n",
    "    xp = projected_vector[0]\n",
    "    yp = projected_vector[1]\n",
    "    h = projected_vector[2]\n",
    "    l1 = np.arccos(h)\n",
    "    l2 = np.sqrt(xp**2.0 + yp**2.0)\n",
    "    x_ij = 0 if l2 < epsilon else xp * l1 / l2 # not sure why paper wants to do this\n",
    "    y_ij = 0 if l2 < epsilon else yp * l1 / l2 # not sure why paper does this\n",
    "    return np.array([x_ij, y_ij])\n",
    "    "
   ]
  },
  {
   "cell_type": "code",
   "execution_count": 1051,
   "metadata": {},
   "outputs": [],
   "source": [
    "# get bin center of masses\n",
    "def calculate_center_of_mass_2D(bins, normalized_normals, projection_matrices_3Dto2D):\n",
    "    center_of_mass = []\n",
    "    for bin_idx, bin in enumerate(bins):\n",
    "        com = np.array([0.0, 0.0])\n",
    "        count = 0\n",
    "        for normal_idx in bin:\n",
    "            normal = normalized_normals[normal_idx]\n",
    "            proj_matrix = projection_matrices_3Dto2D[bin_idx]\n",
    "            resulting_2D_coords = get_2D_coordinates(proj_matrix, normal)\n",
    "            com = com + resulting_2D_coords\n",
    "            count = count + 1\n",
    "        if count > 0:\n",
    "            center_of_mass.append(com / count)\n",
    "        else:\n",
    "            center_of_mass.append(com)\n",
    "    return center_of_mass"
   ]
  },
  {
   "cell_type": "code",
   "execution_count": 1052,
   "metadata": {},
   "outputs": [],
   "source": [
    "def costs(new_normal_2d, original_normal_2d, bin_number, secret):\n",
    "    delta_max = 0.3 # maximum normal drift in the x direction\n",
    "    w1 = 0.4\n",
    "    w2 = 0.6\n",
    "    x_ij_new = new_normal_2d[0]\n",
    "    y_ij_new = new_normal_2d[1]\n",
    "    x_ij_old = original_normal_2d[0]\n",
    "    y_ij_old = original_normal_2d[1]\n",
    "    r_new = np.sqrt(x_ij_new**2.0 + y_ij_new**2.0)\n",
    "    r_old = np.sqrt(x_ij_old**2.0 + y_ij_old**2.0)\n",
    "    diff = x_ij_new - x_ij_old if secret[bin_number] == 0 else x_ij_old - x_ij_new\n",
    "    c1 = np.abs(r_new - r_old)\n",
    "    c2 = 2 if (np.abs(diff) > delta_max) else delta_max - diff if (0 <= diff) else 1\n",
    "    c = w1 * c1 + w2 * c2\n",
    "    return c"
   ]
  },
  {
   "cell_type": "code",
   "execution_count": 1053,
   "metadata": {},
   "outputs": [],
   "source": [
    "# the cost function to minimize. this is a wrapper for the costs(p) function with some guards\n",
    "def cost_func_builder(current_p_index, delta, secret, vertices, faces, bin_centers, face_normals, face_number_to_bin_number, bin_radius, projection_matrices, adjacent_faces):\n",
    "    def cost_func(new_p_value):\n",
    "        #max_costs = 0\n",
    "        costs_l = []\n",
    "        # if search space exceeded return 2, 2 is the max value for costs\n",
    "        if delta < 0:\n",
    "            return 2\n",
    "        \n",
    "        # a was 5 degrees which is 0.0872665 radians\n",
    "        a = 0.0872665\n",
    "\n",
    "        # b was 10 degrees which is 0.174533 radians\n",
    "        b = 0.174533\n",
    "\n",
    "        # for all triangle normals (TN) adjacent to p\n",
    "        for face_idx in adjacent_faces[current_p_index]:\n",
    "            face = faces[face_idx]\n",
    "            new_TN = normalize(get_face_normal_with_vertex_substitution(vertices, face, current_p_index, new_p_value)) # new normal calculated new p\n",
    "            original_TN = face_normals[face_idx]\n",
    "            original_bin_idx = face_number_to_bin_number[face_idx]\n",
    "\n",
    "            # calculate difference between the new normal as result of new vertex position and original normal\n",
    "            angle_diff = np.arccos(original_TN @ new_TN)\n",
    "\n",
    "            # if TN is not in a bin. This means that original bin is -1\n",
    "            if original_bin_idx == -1:\n",
    "                # if difference between actual TN and original TN > a return 2\n",
    "                if angle_diff > a:\n",
    "                    return 2.0\n",
    "\n",
    "            \n",
    "            # if TN has an original bin.\n",
    "            if original_bin_idx != -1:\n",
    "                # if difference between actual TN and original TN > b  return 2.0\n",
    "                if angle_diff > b:\n",
    "                    return 2.0\n",
    "            \n",
    "                # TN left its original bin return 2\n",
    "                if np.arccos(bin_centers[original_bin_idx] @ new_TN) > bin_radius:\n",
    "                    return 2.0\n",
    "\n",
    "                # if all the constraints pass then we can calculate the actual cost of the face normal\n",
    "                projection_matrix = projection_matrices[original_bin_idx]\n",
    "                new_normal_2d = get_2D_coordinates(projection_matrix, new_TN)\n",
    "                original_normal_2d = get_2D_coordinates(projection_matrix, original_TN)\n",
    "                c = costs(new_normal_2d, original_normal_2d, original_bin_idx, secret)\n",
    "\n",
    "                # if c > max_costs:\n",
    "                #     max_costs = c\n",
    "                costs_l.append(c)\n",
    "\n",
    "        return (sum(costs_l) / len(costs_l)) if (len(costs_l) > 0) else 0\n",
    "    return cost_func"
   ]
  },
  {
   "cell_type": "code",
   "execution_count": 1054,
   "metadata": {},
   "outputs": [],
   "source": [
    "# given a cost function this will find return an improved position for the vertex p\n",
    "def multidimentional_downhill_simplex(p_index, delta, vertices, faces, bin_centers, face_normals, face_number_to_bin_number, bin_radius, projection_matrices, secret, adjacent_faces):\n",
    "    initial_vertex_position = vertices[p_index]\n",
    "    result = minimize(\n",
    "        cost_func_builder(p_index, delta, secret, vertices, faces, bin_centers, face_normals, face_number_to_bin_number, bin_radius, projection_matrices, adjacent_faces),\n",
    "        initial_vertex_position,\n",
    "        method='nelder-mead',\n",
    "        options={\"maxiter\": 30}\n",
    "        )\n",
    "    return result['x']"
   ]
  },
  {
   "cell_type": "code",
   "execution_count": 1055,
   "metadata": {},
   "outputs": [],
   "source": [
    "def optimize_vertex(vertex_number, delta, vertices, faces, bin_centers, face_normals, face_number_to_bin_number, bin_radius, projection_matrices, secret, adjacent_faces):\n",
    "    # initial_cost = costs(p)\n",
    "    p_new = multidimentional_downhill_simplex(vertex_number, delta, vertices, faces, bin_centers, face_normals, face_number_to_bin_number, bin_radius, projection_matrices, secret, adjacent_faces)\n",
    "    vertices[vertex_number] = p_new # update the vertex to the new coordinates"
   ]
  },
  {
   "cell_type": "code",
   "execution_count": 1056,
   "metadata": {},
   "outputs": [],
   "source": [
    "def embed_watermark(vertices, faces, secret):\n",
    "    delta = 20 # initial search range\n",
    "    iterations = 5 # number of iterations\n",
    "    refinements = 3 #number of refinements\n",
    "\n",
    "    # copy vertices so that we do not modify the original array\n",
    "    vertices_new = np.copy(vertices)\n",
    "    faces_new = np.copy(faces) \n",
    "\n",
    "\n",
    "    face_normals = [normalize(x) for x in get_face_normals(vertices_new, faces_new)] # face normal for face i can be found at face_normals[i]\n",
    "    bin_centers = fibonacci_sphere(len(secret)) # bin center for bin i can be found at bin_centers[i]\n",
    "    bins = collect_face_normals(bin_centers, face_normals) # the indices of the face normals in bin i are found in bins[i]\n",
    "    bin_angle_radius = get_min_radius(bin_centers) / 2.0\n",
    "    bin_projection_matrices = [get_transformation(bin_center) for bin_center in bin_centers] # to project a vector into the bases defined by bin i use bin_projection_matrices[i]\n",
    "    face_to_bin = calculate_face_to_bin_relation(bins, faces_new)\n",
    "    center_of_mass = calculate_center_of_mass_2D(bins, face_normals, bin_projection_matrices)\n",
    "    # adjacency list per vertex\n",
    "    adjacent_faces = calculate_adjacent_faces_indices(vertices_new, faces) # indices of adjacent faces to vertex i are found in adjacent_faces[i]\n",
    "\n",
    "\n",
    "    for i in range(iterations):\n",
    "        for vertex_number in tqdm(range(len(vertices_new))): #tqdm sets up a progress bar\n",
    "            for j in range(refinements):\n",
    "                optimize_vertex(\n",
    "                    vertex_number, \n",
    "                    delta, \n",
    "                    vertices_new, \n",
    "                    faces_new, \n",
    "                    bin_centers, \n",
    "                    face_normals, \n",
    "                    face_to_bin, \n",
    "                    bin_angle_radius, \n",
    "                    bin_projection_matrices,\n",
    "                    secret,\n",
    "                    adjacent_faces\n",
    "                )\n",
    "        # delta = delta - 1\n",
    "\n",
    "\n",
    "\n",
    "    face_normals_new = [normalize(x) for x in get_face_normals(vertices_new, faces_new)]\n",
    "    com_after = calculate_center_of_mass_2D(bins, face_normals_new, bin_projection_matrices)\n",
    "    mark = []\n",
    "    for i in range(len(center_of_mass)):\n",
    "        if center_of_mass[i][0] < com_after[i][0]:\n",
    "            mark.append(0)\n",
    "        else:\n",
    "            mark.append(1)\n",
    "\n",
    "    print(mark)\n",
    "    \n",
    "    # Return the vertices and faces of the watermarked mesh. We need to also return the original center of masses for each bin which is needed to retrieve the watermark\n",
    "    return vertices_new, faces_new, center_of_mass\n"
   ]
  },
  {
   "cell_type": "code",
   "execution_count": 1057,
   "metadata": {},
   "outputs": [],
   "source": [
    "def retrieve_watermark(vertices, faces, original_centers_of_mass):\n",
    "    face_normals = [normalize(x) for x in get_face_normals(vertices, faces)] # face normal for face i can be found at face_normals[i]\n",
    "    bin_centers = fibonacci_sphere(len(original_centers_of_mass)) # bin center for bin i can be found at bin_centers[i]\n",
    "    bins = collect_face_normals(bin_centers, face_normals) # the indices of the face normals in bin i are found in bins[i]\n",
    "    bin_projection_matrices = [get_transformation(bin_center) for bin_center in bin_centers] # to project a vector into the bases defined by bin i use bin_projection_matrices[i]\n",
    "    new_centers_of_mass = calculate_center_of_mass_2D(bins, face_normals, bin_projection_matrices)\n",
    "\n",
    "    mark = []\n",
    "    for i in range(len(original_centers_of_mass)):\n",
    "        if original_centers_of_mass[i][0] < new_centers_of_mass[i][0]:\n",
    "            mark.append(0)\n",
    "        else:\n",
    "            mark.append(1)\n",
    "\n",
    "    retrieved_string = np.array(mark)\n",
    "\n",
    "    return retrieved_string"
   ]
  },
  {
   "attachments": {},
   "cell_type": "markdown",
   "metadata": {},
   "source": [
    "## Randomization attack\n",
    "A simple randomization attack that moves every vertex a fixed distance a random direction"
   ]
  },
  {
   "cell_type": "code",
   "execution_count": 1067,
   "metadata": {},
   "outputs": [],
   "source": [
    "def attack_vertices_random(vertices, distance, seed):\n",
    "    n = len(vertices)\n",
    "    np.random.seed(seed)\n",
    "    displacements = [normalize(np.random.rand(3)) * distance for item in vertices]\n",
    "    res = np.copy(vertices)\n",
    "    for i in range(n):\n",
    "        res[i] = res[i] + displacements[i]\n",
    "    \n",
    "    return res"
   ]
  },
  {
   "attachments": {},
   "cell_type": "markdown",
   "metadata": {},
   "source": [
    "# determining if the retrieved watermark is hours\n",
    "The retrieved watermark is likely not a perfect match. Somebins have likely been flipped however most bins should not hav moved much.\n",
    "To determine if the retrieved bitstring is in corralated to the secret bitstring we first assume that the two are independant. Our\n",
    "Null Hypothesis is then that the retrieved bitstring is a random bitstring. If the chance of perceiving at least k matches between the two\n",
    "bitstrings is less than 1 percent we reject the null hypothesis and therefore believe that the secret did indeed watermark the mesh."
   ]
  },
  {
   "cell_type": "code",
   "execution_count": 1059,
   "metadata": {},
   "outputs": [],
   "source": [
    "# calculate the probabilty of getting this result under the null hypothesis. If this probabilty is less than 1% reject the null hypothesis\n",
    "def calculate_match_probability(secret, retrieved_secret):\n",
    "    matches = np.array(secret) == np.array(retrieved_secret)\n",
    "    matching_count = sum(matches)\n",
    "    n = len(matches)\n",
    "    # calculate the probability that a random string matches the secret in more than matching_count positions\n",
    "    probability = sum([math.comb(n, k) for k in range(matching_count, n + 1)]) / 2**n\n",
    "    return probability"
   ]
  },
  {
   "attachments": {},
   "cell_type": "markdown",
   "metadata": {},
   "source": [
    "# Experiment"
   ]
  },
  {
   "cell_type": "code",
   "execution_count": 1060,
   "metadata": {},
   "outputs": [
    {
     "name": "stdout",
     "output_type": "stream",
     "text": [
      "32\n"
     ]
    }
   ],
   "source": [
    "ms = pymeshlab.MeshSet()\n",
    "ms.load_new_mesh(\"bishop.obj\")\n",
    "mesh = ms.current_mesh()\n",
    "\n",
    "verts = mesh.vertex_matrix() # vertex i is found at verts[i]\n",
    "faces = mesh.face_matrix() # face i is found at faces[i] and is a numpy array containing 3 indices representing the 3 vertices\n",
    "\n",
    "secret = [1,1,1,1,1,1,1,1,1,1,1,1,1,1,1,1,1,1,1,1,1,1,1,1,1,1,1,1,1,1,1,1]\n",
    "secret_length = len(secret)\n",
    "print(secret_length)\n",
    "# used just for debugging\n",
    "current_vertex_finger = -1"
   ]
  },
  {
   "cell_type": "code",
   "execution_count": 1061,
   "metadata": {},
   "outputs": [],
   "source": [
    "# embed watermark\n",
    "# result_vertices, result_faces, original_centers_of_mass = embed_watermark(verts, faces, secret)"
   ]
  },
  {
   "cell_type": "code",
   "execution_count": 1062,
   "metadata": {},
   "outputs": [],
   "source": [
    "\n",
    "# attacked_vertices = attack_vertices_random(result_vertices, 0.05, 3000)\n"
   ]
  },
  {
   "cell_type": "code",
   "execution_count": 1063,
   "metadata": {},
   "outputs": [],
   "source": [
    "# retrieved_string = retrieve_watermark(attacked_vertices, faces, original_centers_of_mass)\n",
    "# res = calculate_match_probability(secret, retrieved_string)"
   ]
  },
  {
   "cell_type": "code",
   "execution_count": 1064,
   "metadata": {},
   "outputs": [],
   "source": [
    "def randomization_experiment(vertices, faces, secret, centers_of_mass):\n",
    "    attack_distances = np.linspace(0, 0.5, 20)\n",
    "    runs = 20 # how many times the experiment is run for the same distance. should average over these runs\n",
    "    seed = 5432\n",
    "    averaged_scores = []\n",
    "    for dist in tqdm(attack_distances):\n",
    "        scores = []\n",
    "        for run in range(runs):\n",
    "            attacked_vertices = attack_vertices_random(vertices, dist, seed) # randomization attack\n",
    "            seed = seed + 1 # change seed for next attack\n",
    "            extracted_secret = retrieve_watermark(attacked_vertices, faces, centers_of_mass)\n",
    "            score = calculate_match_probability(secret, extracted_secret)\n",
    "            scores.append(score)\n",
    "\n",
    "        # add the average of the scores to the list\n",
    "        averaged_scores.append(sum(scores) / len(scores))\n",
    "    return (attack_distances, averaged_scores)\n",
    "        \n"
   ]
  },
  {
   "cell_type": "code",
   "execution_count": null,
   "metadata": {},
   "outputs": [],
   "source": [
    "embedded_verts, embedded_faces, centers_of_mass = embed_watermark(verts, faces, secret) # first embed the watermark\n"
   ]
  },
  {
   "cell_type": "code",
   "execution_count": null,
   "metadata": {},
   "outputs": [],
   "source": [
    "distances, scores = randomization_experiment(embedded_verts, embedded_faces, secret, centers_of_mass)"
   ]
  },
  {
   "cell_type": "code",
   "execution_count": null,
   "metadata": {},
   "outputs": [
    {
     "data": {
      "text/plain": [
       "[<matplotlib.lines.Line2D at 0x198b2ca6380>]"
      ]
     },
     "execution_count": 1029,
     "metadata": {},
     "output_type": "execute_result"
    },
    {
     "data": {
      "image/svg+xml": "<?xml version=\"1.0\" encoding=\"utf-8\" standalone=\"no\"?>\n<!DOCTYPE svg PUBLIC \"-//W3C//DTD SVG 1.1//EN\"\n  \"http://www.w3.org/Graphics/SVG/1.1/DTD/svg11.dtd\">\n<svg xmlns:xlink=\"http://www.w3.org/1999/xlink\" width=\"400.785625pt\" height=\"297.190125pt\" viewBox=\"0 0 400.785625 297.190125\" xmlns=\"http://www.w3.org/2000/svg\" version=\"1.1\">\n <metadata>\n  <rdf:RDF xmlns:dc=\"http://purl.org/dc/elements/1.1/\" xmlns:cc=\"http://creativecommons.org/ns#\" xmlns:rdf=\"http://www.w3.org/1999/02/22-rdf-syntax-ns#\">\n   <cc:Work>\n    <dc:type rdf:resource=\"http://purl.org/dc/dcmitype/StillImage\"/>\n    <dc:date>2023-01-18T01:17:01.707839</dc:date>\n    <dc:format>image/svg+xml</dc:format>\n    <dc:creator>\n     <cc:Agent>\n      <dc:title>Matplotlib v3.6.3, https://matplotlib.org/</dc:title>\n     </cc:Agent>\n    </dc:creator>\n   </cc:Work>\n  </rdf:RDF>\n </metadata>\n <defs>\n  <style type=\"text/css\">*{stroke-linejoin: round; stroke-linecap: butt}</style>\n </defs>\n <g id=\"figure_1\">\n  <g id=\"patch_1\">\n   <path d=\"M 0 297.190125 \nL 400.785625 297.190125 \nL 400.785625 0 \nL 0 0 \nz\n\" style=\"fill: #ffffff\"/>\n  </g>\n  <g id=\"axes_1\">\n   <g id=\"patch_2\">\n    <path d=\"M 36.465625 273.312 \nL 393.585625 273.312 \nL 393.585625 7.2 \nL 36.465625 7.2 \nz\n\" style=\"fill: #ffffff\"/>\n   </g>\n   <g id=\"matplotlib.axis_1\">\n    <g id=\"xtick_1\">\n     <g id=\"line2d_1\">\n      <defs>\n       <path id=\"m5e62dab408\" d=\"M 0 0 \nL 0 3.5 \n\" style=\"stroke: #000000; stroke-width: 0.8\"/>\n      </defs>\n      <g>\n       <use xlink:href=\"#m5e62dab408\" x=\"52.698352\" y=\"273.312\" style=\"stroke: #000000; stroke-width: 0.8\"/>\n      </g>\n     </g>\n     <g id=\"text_1\">\n      <!-- 0.0 -->\n      <g transform=\"translate(44.74679 287.910437) scale(0.1 -0.1)\">\n       <defs>\n        <path id=\"DejaVuSans-30\" d=\"M 2034 4250 \nQ 1547 4250 1301 3770 \nQ 1056 3291 1056 2328 \nQ 1056 1369 1301 889 \nQ 1547 409 2034 409 \nQ 2525 409 2770 889 \nQ 3016 1369 3016 2328 \nQ 3016 3291 2770 3770 \nQ 2525 4250 2034 4250 \nz\nM 2034 4750 \nQ 2819 4750 3233 4129 \nQ 3647 3509 3647 2328 \nQ 3647 1150 3233 529 \nQ 2819 -91 2034 -91 \nQ 1250 -91 836 529 \nQ 422 1150 422 2328 \nQ 422 3509 836 4129 \nQ 1250 4750 2034 4750 \nz\n\" transform=\"scale(0.015625)\"/>\n        <path id=\"DejaVuSans-2e\" d=\"M 684 794 \nL 1344 794 \nL 1344 0 \nL 684 0 \nL 684 794 \nz\n\" transform=\"scale(0.015625)\"/>\n       </defs>\n       <use xlink:href=\"#DejaVuSans-30\"/>\n       <use xlink:href=\"#DejaVuSans-2e\" x=\"63.623047\"/>\n       <use xlink:href=\"#DejaVuSans-30\" x=\"95.410156\"/>\n      </g>\n     </g>\n    </g>\n    <g id=\"xtick_2\">\n     <g id=\"line2d_2\">\n      <g>\n       <use xlink:href=\"#m5e62dab408\" x=\"117.629261\" y=\"273.312\" style=\"stroke: #000000; stroke-width: 0.8\"/>\n      </g>\n     </g>\n     <g id=\"text_2\">\n      <!-- 0.1 -->\n      <g transform=\"translate(109.677699 287.910437) scale(0.1 -0.1)\">\n       <defs>\n        <path id=\"DejaVuSans-31\" d=\"M 794 531 \nL 1825 531 \nL 1825 4091 \nL 703 3866 \nL 703 4441 \nL 1819 4666 \nL 2450 4666 \nL 2450 531 \nL 3481 531 \nL 3481 0 \nL 794 0 \nL 794 531 \nz\n\" transform=\"scale(0.015625)\"/>\n       </defs>\n       <use xlink:href=\"#DejaVuSans-30\"/>\n       <use xlink:href=\"#DejaVuSans-2e\" x=\"63.623047\"/>\n       <use xlink:href=\"#DejaVuSans-31\" x=\"95.410156\"/>\n      </g>\n     </g>\n    </g>\n    <g id=\"xtick_3\">\n     <g id=\"line2d_3\">\n      <g>\n       <use xlink:href=\"#m5e62dab408\" x=\"182.56017\" y=\"273.312\" style=\"stroke: #000000; stroke-width: 0.8\"/>\n      </g>\n     </g>\n     <g id=\"text_3\">\n      <!-- 0.2 -->\n      <g transform=\"translate(174.608608 287.910437) scale(0.1 -0.1)\">\n       <defs>\n        <path id=\"DejaVuSans-32\" d=\"M 1228 531 \nL 3431 531 \nL 3431 0 \nL 469 0 \nL 469 531 \nQ 828 903 1448 1529 \nQ 2069 2156 2228 2338 \nQ 2531 2678 2651 2914 \nQ 2772 3150 2772 3378 \nQ 2772 3750 2511 3984 \nQ 2250 4219 1831 4219 \nQ 1534 4219 1204 4116 \nQ 875 4013 500 3803 \nL 500 4441 \nQ 881 4594 1212 4672 \nQ 1544 4750 1819 4750 \nQ 2544 4750 2975 4387 \nQ 3406 4025 3406 3419 \nQ 3406 3131 3298 2873 \nQ 3191 2616 2906 2266 \nQ 2828 2175 2409 1742 \nQ 1991 1309 1228 531 \nz\n\" transform=\"scale(0.015625)\"/>\n       </defs>\n       <use xlink:href=\"#DejaVuSans-30\"/>\n       <use xlink:href=\"#DejaVuSans-2e\" x=\"63.623047\"/>\n       <use xlink:href=\"#DejaVuSans-32\" x=\"95.410156\"/>\n      </g>\n     </g>\n    </g>\n    <g id=\"xtick_4\">\n     <g id=\"line2d_4\">\n      <g>\n       <use xlink:href=\"#m5e62dab408\" x=\"247.49108\" y=\"273.312\" style=\"stroke: #000000; stroke-width: 0.8\"/>\n      </g>\n     </g>\n     <g id=\"text_4\">\n      <!-- 0.3 -->\n      <g transform=\"translate(239.539517 287.910437) scale(0.1 -0.1)\">\n       <defs>\n        <path id=\"DejaVuSans-33\" d=\"M 2597 2516 \nQ 3050 2419 3304 2112 \nQ 3559 1806 3559 1356 \nQ 3559 666 3084 287 \nQ 2609 -91 1734 -91 \nQ 1441 -91 1130 -33 \nQ 819 25 488 141 \nL 488 750 \nQ 750 597 1062 519 \nQ 1375 441 1716 441 \nQ 2309 441 2620 675 \nQ 2931 909 2931 1356 \nQ 2931 1769 2642 2001 \nQ 2353 2234 1838 2234 \nL 1294 2234 \nL 1294 2753 \nL 1863 2753 \nQ 2328 2753 2575 2939 \nQ 2822 3125 2822 3475 \nQ 2822 3834 2567 4026 \nQ 2313 4219 1838 4219 \nQ 1578 4219 1281 4162 \nQ 984 4106 628 3988 \nL 628 4550 \nQ 988 4650 1302 4700 \nQ 1616 4750 1894 4750 \nQ 2613 4750 3031 4423 \nQ 3450 4097 3450 3541 \nQ 3450 3153 3228 2886 \nQ 3006 2619 2597 2516 \nz\n\" transform=\"scale(0.015625)\"/>\n       </defs>\n       <use xlink:href=\"#DejaVuSans-30\"/>\n       <use xlink:href=\"#DejaVuSans-2e\" x=\"63.623047\"/>\n       <use xlink:href=\"#DejaVuSans-33\" x=\"95.410156\"/>\n      </g>\n     </g>\n    </g>\n    <g id=\"xtick_5\">\n     <g id=\"line2d_5\">\n      <g>\n       <use xlink:href=\"#m5e62dab408\" x=\"312.421989\" y=\"273.312\" style=\"stroke: #000000; stroke-width: 0.8\"/>\n      </g>\n     </g>\n     <g id=\"text_5\">\n      <!-- 0.4 -->\n      <g transform=\"translate(304.470426 287.910437) scale(0.1 -0.1)\">\n       <defs>\n        <path id=\"DejaVuSans-34\" d=\"M 2419 4116 \nL 825 1625 \nL 2419 1625 \nL 2419 4116 \nz\nM 2253 4666 \nL 3047 4666 \nL 3047 1625 \nL 3713 1625 \nL 3713 1100 \nL 3047 1100 \nL 3047 0 \nL 2419 0 \nL 2419 1100 \nL 313 1100 \nL 313 1709 \nL 2253 4666 \nz\n\" transform=\"scale(0.015625)\"/>\n       </defs>\n       <use xlink:href=\"#DejaVuSans-30\"/>\n       <use xlink:href=\"#DejaVuSans-2e\" x=\"63.623047\"/>\n       <use xlink:href=\"#DejaVuSans-34\" x=\"95.410156\"/>\n      </g>\n     </g>\n    </g>\n    <g id=\"xtick_6\">\n     <g id=\"line2d_6\">\n      <g>\n       <use xlink:href=\"#m5e62dab408\" x=\"377.352898\" y=\"273.312\" style=\"stroke: #000000; stroke-width: 0.8\"/>\n      </g>\n     </g>\n     <g id=\"text_6\">\n      <!-- 0.5 -->\n      <g transform=\"translate(369.401335 287.910437) scale(0.1 -0.1)\">\n       <defs>\n        <path id=\"DejaVuSans-35\" d=\"M 691 4666 \nL 3169 4666 \nL 3169 4134 \nL 1269 4134 \nL 1269 2991 \nQ 1406 3038 1543 3061 \nQ 1681 3084 1819 3084 \nQ 2600 3084 3056 2656 \nQ 3513 2228 3513 1497 \nQ 3513 744 3044 326 \nQ 2575 -91 1722 -91 \nQ 1428 -91 1123 -41 \nQ 819 9 494 109 \nL 494 744 \nQ 775 591 1075 516 \nQ 1375 441 1709 441 \nQ 2250 441 2565 725 \nQ 2881 1009 2881 1497 \nQ 2881 1984 2565 2268 \nQ 2250 2553 1709 2553 \nQ 1456 2553 1204 2497 \nQ 953 2441 691 2322 \nL 691 4666 \nz\n\" transform=\"scale(0.015625)\"/>\n       </defs>\n       <use xlink:href=\"#DejaVuSans-30\"/>\n       <use xlink:href=\"#DejaVuSans-2e\" x=\"63.623047\"/>\n       <use xlink:href=\"#DejaVuSans-35\" x=\"95.410156\"/>\n      </g>\n     </g>\n    </g>\n   </g>\n   <g id=\"matplotlib.axis_2\">\n    <g id=\"ytick_1\">\n     <g id=\"line2d_7\">\n      <defs>\n       <path id=\"m11cd19bb11\" d=\"M 0 0 \nL -3.5 0 \n\" style=\"stroke: #000000; stroke-width: 0.8\"/>\n      </defs>\n      <g>\n       <use xlink:href=\"#m11cd19bb11\" x=\"36.465625\" y=\"261.216008\" style=\"stroke: #000000; stroke-width: 0.8\"/>\n      </g>\n     </g>\n     <g id=\"text_7\">\n      <!-- 0.00 -->\n      <g transform=\"translate(7.2 265.015227) scale(0.1 -0.1)\">\n       <use xlink:href=\"#DejaVuSans-30\"/>\n       <use xlink:href=\"#DejaVuSans-2e\" x=\"63.623047\"/>\n       <use xlink:href=\"#DejaVuSans-30\" x=\"95.410156\"/>\n       <use xlink:href=\"#DejaVuSans-30\" x=\"159.033203\"/>\n      </g>\n     </g>\n    </g>\n    <g id=\"ytick_2\">\n     <g id=\"line2d_8\">\n      <g>\n       <use xlink:href=\"#m11cd19bb11\" x=\"36.465625\" y=\"207.582485\" style=\"stroke: #000000; stroke-width: 0.8\"/>\n      </g>\n     </g>\n     <g id=\"text_8\">\n      <!-- 0.05 -->\n      <g transform=\"translate(7.2 211.381703) scale(0.1 -0.1)\">\n       <use xlink:href=\"#DejaVuSans-30\"/>\n       <use xlink:href=\"#DejaVuSans-2e\" x=\"63.623047\"/>\n       <use xlink:href=\"#DejaVuSans-30\" x=\"95.410156\"/>\n       <use xlink:href=\"#DejaVuSans-35\" x=\"159.033203\"/>\n      </g>\n     </g>\n    </g>\n    <g id=\"ytick_3\">\n     <g id=\"line2d_9\">\n      <g>\n       <use xlink:href=\"#m11cd19bb11\" x=\"36.465625\" y=\"153.948961\" style=\"stroke: #000000; stroke-width: 0.8\"/>\n      </g>\n     </g>\n     <g id=\"text_9\">\n      <!-- 0.10 -->\n      <g transform=\"translate(7.2 157.74818) scale(0.1 -0.1)\">\n       <use xlink:href=\"#DejaVuSans-30\"/>\n       <use xlink:href=\"#DejaVuSans-2e\" x=\"63.623047\"/>\n       <use xlink:href=\"#DejaVuSans-31\" x=\"95.410156\"/>\n       <use xlink:href=\"#DejaVuSans-30\" x=\"159.033203\"/>\n      </g>\n     </g>\n    </g>\n    <g id=\"ytick_4\">\n     <g id=\"line2d_10\">\n      <g>\n       <use xlink:href=\"#m11cd19bb11\" x=\"36.465625\" y=\"100.315438\" style=\"stroke: #000000; stroke-width: 0.8\"/>\n      </g>\n     </g>\n     <g id=\"text_10\">\n      <!-- 0.15 -->\n      <g transform=\"translate(7.2 104.114656) scale(0.1 -0.1)\">\n       <use xlink:href=\"#DejaVuSans-30\"/>\n       <use xlink:href=\"#DejaVuSans-2e\" x=\"63.623047\"/>\n       <use xlink:href=\"#DejaVuSans-31\" x=\"95.410156\"/>\n       <use xlink:href=\"#DejaVuSans-35\" x=\"159.033203\"/>\n      </g>\n     </g>\n    </g>\n    <g id=\"ytick_5\">\n     <g id=\"line2d_11\">\n      <g>\n       <use xlink:href=\"#m11cd19bb11\" x=\"36.465625\" y=\"46.681914\" style=\"stroke: #000000; stroke-width: 0.8\"/>\n      </g>\n     </g>\n     <g id=\"text_11\">\n      <!-- 0.20 -->\n      <g transform=\"translate(7.2 50.481133) scale(0.1 -0.1)\">\n       <use xlink:href=\"#DejaVuSans-30\"/>\n       <use xlink:href=\"#DejaVuSans-2e\" x=\"63.623047\"/>\n       <use xlink:href=\"#DejaVuSans-32\" x=\"95.410156\"/>\n       <use xlink:href=\"#DejaVuSans-30\" x=\"159.033203\"/>\n      </g>\n     </g>\n    </g>\n   </g>\n   <g id=\"line2d_12\">\n    <path d=\"M 52.698352 261.216 \nL 69.785434 261.089662 \nL 86.872515 250.906211 \nL 103.959596 230.753184 \nL 121.046678 157.645063 \nL 138.133759 121.85824 \nL 155.22084 92.3825 \nL 172.307922 121.901349 \nL 189.395003 36.949449 \nL 206.482084 82.204074 \nL 223.569166 64.200364 \nL 240.656247 32.930887 \nL 257.743328 19.296 \nL 274.83041 73.241455 \nL 291.917491 100.119208 \nL 309.004572 56.949979 \nL 326.091654 78.586627 \nL 343.178735 101.606466 \nL 360.265816 78.08919 \nL 377.352898 52.736079 \n\" clip-path=\"url(#pa141cf0748)\" style=\"fill: none; stroke: #1f77b4; stroke-width: 1.5; stroke-linecap: square\"/>\n   </g>\n   <g id=\"patch_3\">\n    <path d=\"M 36.465625 273.312 \nL 36.465625 7.2 \n\" style=\"fill: none; stroke: #000000; stroke-width: 0.8; stroke-linejoin: miter; stroke-linecap: square\"/>\n   </g>\n   <g id=\"patch_4\">\n    <path d=\"M 393.585625 273.312 \nL 393.585625 7.2 \n\" style=\"fill: none; stroke: #000000; stroke-width: 0.8; stroke-linejoin: miter; stroke-linecap: square\"/>\n   </g>\n   <g id=\"patch_5\">\n    <path d=\"M 36.465625 273.312 \nL 393.585625 273.312 \n\" style=\"fill: none; stroke: #000000; stroke-width: 0.8; stroke-linejoin: miter; stroke-linecap: square\"/>\n   </g>\n   <g id=\"patch_6\">\n    <path d=\"M 36.465625 7.2 \nL 393.585625 7.2 \n\" style=\"fill: none; stroke: #000000; stroke-width: 0.8; stroke-linejoin: miter; stroke-linecap: square\"/>\n   </g>\n  </g>\n </g>\n <defs>\n  <clipPath id=\"pa141cf0748\">\n   <rect x=\"36.465625\" y=\"7.2\" width=\"357.12\" height=\"266.112\"/>\n  </clipPath>\n </defs>\n</svg>\n",
      "text/plain": [
       "<Figure size 640x480 with 1 Axes>"
      ]
     },
     "metadata": {},
     "output_type": "display_data"
    }
   ],
   "source": [
    "%config InlineBackend.figure_formats = ['svg']\n",
    "from matplotlib import pyplot\n",
    "\n",
    "pyplot.plot(distances, scores)\n"
   ]
  },
  {
   "cell_type": "code",
   "execution_count": 1085,
   "metadata": {},
   "outputs": [],
   "source": [
    "def secret_length_experiment(vertices, faces):\n",
    "    xs = list(range(32, 34)) # the length of the secret\n",
    "    runs = 1 # how many times the experiment is run for the same distance. should average over these runs\n",
    "    seed = 5432\n",
    "    attack_distance = 0.01\n",
    "    ys = []\n",
    "    for key_length in tqdm(xs):\n",
    "        scores = []\n",
    "        for run in range(runs):\n",
    "            key = np.ones(int(key_length))\n",
    "            marked_verts, marked_faces, centers_of_mass = embed_watermark(vertices, faces, key) # first embed the watermark\n",
    "\n",
    "            attacked_vertices = attack_vertices_random(marked_verts, attack_distance, seed) # randomization attack\n",
    "            seed = seed + 1 # change seed for next attack\n",
    "            extracted_secret = retrieve_watermark(attacked_vertices, faces, centers_of_mass)\n",
    "            score = calculate_match_probability(key, extracted_secret)\n",
    "            scores.append(score)\n",
    "\n",
    "        # add the average of the scores to the list\n",
    "        ys.append(sum(scores) / len(scores))\n",
    "    return (xs, ys)"
   ]
  },
  {
   "cell_type": "code",
   "execution_count": 1086,
   "metadata": {},
   "outputs": [
    {
     "data": {
      "application/vnd.jupyter.widget-view+json": {
       "model_id": "4f7879889929437aaea9ead0971f8f9d",
       "version_major": 2,
       "version_minor": 0
      },
      "text/plain": [
       "  0%|          | 0/2 [00:00<?, ?it/s]"
      ]
     },
     "metadata": {},
     "output_type": "display_data"
    },
    {
     "data": {
      "application/vnd.jupyter.widget-view+json": {
       "model_id": "84158a7b9f104c6da5e5091ef7e8b55f",
       "version_major": 2,
       "version_minor": 0
      },
      "text/plain": [
       "  0%|          | 0/612 [00:00<?, ?it/s]"
      ]
     },
     "metadata": {},
     "output_type": "display_data"
    },
    {
     "name": "stderr",
     "output_type": "stream",
     "text": [
      "C:\\Users\\jaden\\AppData\\Local\\Temp\\ipykernel_4868\\3981665973.py:24: RuntimeWarning: invalid value encountered in arccos\n",
      "  angle_diff = np.arccos(original_TN @ new_TN)\n"
     ]
    },
    {
     "data": {
      "application/vnd.jupyter.widget-view+json": {
       "model_id": "d60fcc02f2464d9496fc4077239fdbc9",
       "version_major": 2,
       "version_minor": 0
      },
      "text/plain": [
       "  0%|          | 0/612 [00:00<?, ?it/s]"
      ]
     },
     "metadata": {},
     "output_type": "display_data"
    },
    {
     "data": {
      "application/vnd.jupyter.widget-view+json": {
       "model_id": "c5cdb084eaac46889e725ded90c4bc49",
       "version_major": 2,
       "version_minor": 0
      },
      "text/plain": [
       "  0%|          | 0/612 [00:00<?, ?it/s]"
      ]
     },
     "metadata": {},
     "output_type": "display_data"
    },
    {
     "data": {
      "application/vnd.jupyter.widget-view+json": {
       "model_id": "7572acc7d2a344ec9ebf542df2ac27b2",
       "version_major": 2,
       "version_minor": 0
      },
      "text/plain": [
       "  0%|          | 0/612 [00:00<?, ?it/s]"
      ]
     },
     "metadata": {},
     "output_type": "display_data"
    },
    {
     "data": {
      "application/vnd.jupyter.widget-view+json": {
       "model_id": "ba475f2c7d7344ec82c102c534e3e7fd",
       "version_major": 2,
       "version_minor": 0
      },
      "text/plain": [
       "  0%|          | 0/612 [00:00<?, ?it/s]"
      ]
     },
     "metadata": {},
     "output_type": "display_data"
    },
    {
     "name": "stdout",
     "output_type": "stream",
     "text": [
      "[1, 1, 1, 1, 1, 1, 1, 1, 1, 1, 1, 1, 1, 1, 1, 1, 1, 1, 1, 1, 1, 1, 1, 1, 1, 1, 1, 1, 1, 1, 1, 1]\n"
     ]
    },
    {
     "data": {
      "application/vnd.jupyter.widget-view+json": {
       "model_id": "2b6937c75f644a8ea9c6c73b18d85e68",
       "version_major": 2,
       "version_minor": 0
      },
      "text/plain": [
       "  0%|          | 0/612 [00:00<?, ?it/s]"
      ]
     },
     "metadata": {},
     "output_type": "display_data"
    },
    {
     "data": {
      "application/vnd.jupyter.widget-view+json": {
       "model_id": "87c3b49278b848b6942e1b8a5fd052a5",
       "version_major": 2,
       "version_minor": 0
      },
      "text/plain": [
       "  0%|          | 0/612 [00:00<?, ?it/s]"
      ]
     },
     "metadata": {},
     "output_type": "display_data"
    },
    {
     "data": {
      "application/vnd.jupyter.widget-view+json": {
       "model_id": "301fc8a5792d4896ab0bb77b8445415d",
       "version_major": 2,
       "version_minor": 0
      },
      "text/plain": [
       "  0%|          | 0/612 [00:00<?, ?it/s]"
      ]
     },
     "metadata": {},
     "output_type": "display_data"
    },
    {
     "data": {
      "application/vnd.jupyter.widget-view+json": {
       "model_id": "def7530d65bd4270a417df29e148727f",
       "version_major": 2,
       "version_minor": 0
      },
      "text/plain": [
       "  0%|          | 0/612 [00:00<?, ?it/s]"
      ]
     },
     "metadata": {},
     "output_type": "display_data"
    },
    {
     "data": {
      "application/vnd.jupyter.widget-view+json": {
       "model_id": "4dbd0af8d19541adb7b920abd105cd35",
       "version_major": 2,
       "version_minor": 0
      },
      "text/plain": [
       "  0%|          | 0/612 [00:00<?, ?it/s]"
      ]
     },
     "metadata": {},
     "output_type": "display_data"
    },
    {
     "name": "stdout",
     "output_type": "stream",
     "text": [
      "[1, 1, 1, 1, 1, 1, 1, 1, 1, 1, 1, 1, 1, 1, 1, 1, 1, 1, 1, 1, 1, 1, 1, 1, 1, 1, 1, 1, 1, 1, 1, 1, 1]\n"
     ]
    }
   ],
   "source": [
    "xs, ys = secret_length_experiment(verts, faces)"
   ]
  },
  {
   "cell_type": "code",
   "execution_count": 1087,
   "metadata": {},
   "outputs": [
    {
     "data": {
      "text/plain": [
       "[<matplotlib.lines.Line2D at 0x198ba29bdc0>]"
      ]
     },
     "execution_count": 1087,
     "metadata": {},
     "output_type": "execute_result"
    },
    {
     "data": {
      "image/svg+xml": "<?xml version=\"1.0\" encoding=\"utf-8\" standalone=\"no\"?>\n<!DOCTYPE svg PUBLIC \"-//W3C//DTD SVG 1.1//EN\"\n  \"http://www.w3.org/Graphics/SVG/1.1/DTD/svg11.dtd\">\n<svg xmlns:xlink=\"http://www.w3.org/1999/xlink\" width=\"384.8825pt\" height=\"307.788562pt\" viewBox=\"0 0 384.8825 307.788562\" xmlns=\"http://www.w3.org/2000/svg\" version=\"1.1\">\n <metadata>\n  <rdf:RDF xmlns:dc=\"http://purl.org/dc/elements/1.1/\" xmlns:cc=\"http://creativecommons.org/ns#\" xmlns:rdf=\"http://www.w3.org/1999/02/22-rdf-syntax-ns#\">\n   <cc:Work>\n    <dc:type rdf:resource=\"http://purl.org/dc/dcmitype/StillImage\"/>\n    <dc:date>2023-01-18T01:49:18.179658</dc:date>\n    <dc:format>image/svg+xml</dc:format>\n    <dc:creator>\n     <cc:Agent>\n      <dc:title>Matplotlib v3.6.3, https://matplotlib.org/</dc:title>\n     </cc:Agent>\n    </dc:creator>\n   </cc:Work>\n  </rdf:RDF>\n </metadata>\n <defs>\n  <style type=\"text/css\">*{stroke-linejoin: round; stroke-linecap: butt}</style>\n </defs>\n <g id=\"figure_1\">\n  <g id=\"patch_1\">\n   <path d=\"M 0 307.788562 \nL 384.8825 307.788562 \nL 384.8825 0 \nL 0 0 \nz\n\" style=\"fill: #ffffff\"/>\n  </g>\n  <g id=\"axes_1\">\n   <g id=\"patch_2\">\n    <path d=\"M 20.5625 283.910437 \nL 377.6825 283.910437 \nL 377.6825 17.798437 \nL 20.5625 17.798437 \nz\n\" style=\"fill: #ffffff\"/>\n   </g>\n   <g id=\"matplotlib.axis_1\">\n    <g id=\"xtick_1\">\n     <g id=\"line2d_1\">\n      <defs>\n       <path id=\"m1500ce0908\" d=\"M 0 0 \nL 0 3.5 \n\" style=\"stroke: #000000; stroke-width: 0.8\"/>\n      </defs>\n      <g>\n       <use xlink:href=\"#m1500ce0908\" x=\"36.795227\" y=\"283.910437\" style=\"stroke: #000000; stroke-width: 0.8\"/>\n      </g>\n     </g>\n     <g id=\"text_1\">\n      <!-- 32.0 -->\n      <g transform=\"translate(25.662415 298.508875) scale(0.1 -0.1)\">\n       <defs>\n        <path id=\"DejaVuSans-33\" d=\"M 2597 2516 \nQ 3050 2419 3304 2112 \nQ 3559 1806 3559 1356 \nQ 3559 666 3084 287 \nQ 2609 -91 1734 -91 \nQ 1441 -91 1130 -33 \nQ 819 25 488 141 \nL 488 750 \nQ 750 597 1062 519 \nQ 1375 441 1716 441 \nQ 2309 441 2620 675 \nQ 2931 909 2931 1356 \nQ 2931 1769 2642 2001 \nQ 2353 2234 1838 2234 \nL 1294 2234 \nL 1294 2753 \nL 1863 2753 \nQ 2328 2753 2575 2939 \nQ 2822 3125 2822 3475 \nQ 2822 3834 2567 4026 \nQ 2313 4219 1838 4219 \nQ 1578 4219 1281 4162 \nQ 984 4106 628 3988 \nL 628 4550 \nQ 988 4650 1302 4700 \nQ 1616 4750 1894 4750 \nQ 2613 4750 3031 4423 \nQ 3450 4097 3450 3541 \nQ 3450 3153 3228 2886 \nQ 3006 2619 2597 2516 \nz\n\" transform=\"scale(0.015625)\"/>\n        <path id=\"DejaVuSans-32\" d=\"M 1228 531 \nL 3431 531 \nL 3431 0 \nL 469 0 \nL 469 531 \nQ 828 903 1448 1529 \nQ 2069 2156 2228 2338 \nQ 2531 2678 2651 2914 \nQ 2772 3150 2772 3378 \nQ 2772 3750 2511 3984 \nQ 2250 4219 1831 4219 \nQ 1534 4219 1204 4116 \nQ 875 4013 500 3803 \nL 500 4441 \nQ 881 4594 1212 4672 \nQ 1544 4750 1819 4750 \nQ 2544 4750 2975 4387 \nQ 3406 4025 3406 3419 \nQ 3406 3131 3298 2873 \nQ 3191 2616 2906 2266 \nQ 2828 2175 2409 1742 \nQ 1991 1309 1228 531 \nz\n\" transform=\"scale(0.015625)\"/>\n        <path id=\"DejaVuSans-2e\" d=\"M 684 794 \nL 1344 794 \nL 1344 0 \nL 684 0 \nL 684 794 \nz\n\" transform=\"scale(0.015625)\"/>\n        <path id=\"DejaVuSans-30\" d=\"M 2034 4250 \nQ 1547 4250 1301 3770 \nQ 1056 3291 1056 2328 \nQ 1056 1369 1301 889 \nQ 1547 409 2034 409 \nQ 2525 409 2770 889 \nQ 3016 1369 3016 2328 \nQ 3016 3291 2770 3770 \nQ 2525 4250 2034 4250 \nz\nM 2034 4750 \nQ 2819 4750 3233 4129 \nQ 3647 3509 3647 2328 \nQ 3647 1150 3233 529 \nQ 2819 -91 2034 -91 \nQ 1250 -91 836 529 \nQ 422 1150 422 2328 \nQ 422 3509 836 4129 \nQ 1250 4750 2034 4750 \nz\n\" transform=\"scale(0.015625)\"/>\n       </defs>\n       <use xlink:href=\"#DejaVuSans-33\"/>\n       <use xlink:href=\"#DejaVuSans-32\" x=\"63.623047\"/>\n       <use xlink:href=\"#DejaVuSans-2e\" x=\"127.246094\"/>\n       <use xlink:href=\"#DejaVuSans-30\" x=\"159.033203\"/>\n      </g>\n     </g>\n    </g>\n    <g id=\"xtick_2\">\n     <g id=\"line2d_2\">\n      <g>\n       <use xlink:href=\"#m1500ce0908\" x=\"101.726136\" y=\"283.910437\" style=\"stroke: #000000; stroke-width: 0.8\"/>\n      </g>\n     </g>\n     <g id=\"text_2\">\n      <!-- 32.2 -->\n      <g transform=\"translate(90.593324 298.508875) scale(0.1 -0.1)\">\n       <use xlink:href=\"#DejaVuSans-33\"/>\n       <use xlink:href=\"#DejaVuSans-32\" x=\"63.623047\"/>\n       <use xlink:href=\"#DejaVuSans-2e\" x=\"127.246094\"/>\n       <use xlink:href=\"#DejaVuSans-32\" x=\"159.033203\"/>\n      </g>\n     </g>\n    </g>\n    <g id=\"xtick_3\">\n     <g id=\"line2d_3\">\n      <g>\n       <use xlink:href=\"#m1500ce0908\" x=\"166.657045\" y=\"283.910437\" style=\"stroke: #000000; stroke-width: 0.8\"/>\n      </g>\n     </g>\n     <g id=\"text_3\">\n      <!-- 32.4 -->\n      <g transform=\"translate(155.524233 298.508875) scale(0.1 -0.1)\">\n       <defs>\n        <path id=\"DejaVuSans-34\" d=\"M 2419 4116 \nL 825 1625 \nL 2419 1625 \nL 2419 4116 \nz\nM 2253 4666 \nL 3047 4666 \nL 3047 1625 \nL 3713 1625 \nL 3713 1100 \nL 3047 1100 \nL 3047 0 \nL 2419 0 \nL 2419 1100 \nL 313 1100 \nL 313 1709 \nL 2253 4666 \nz\n\" transform=\"scale(0.015625)\"/>\n       </defs>\n       <use xlink:href=\"#DejaVuSans-33\"/>\n       <use xlink:href=\"#DejaVuSans-32\" x=\"63.623047\"/>\n       <use xlink:href=\"#DejaVuSans-2e\" x=\"127.246094\"/>\n       <use xlink:href=\"#DejaVuSans-34\" x=\"159.033203\"/>\n      </g>\n     </g>\n    </g>\n    <g id=\"xtick_4\">\n     <g id=\"line2d_4\">\n      <g>\n       <use xlink:href=\"#m1500ce0908\" x=\"231.587955\" y=\"283.910437\" style=\"stroke: #000000; stroke-width: 0.8\"/>\n      </g>\n     </g>\n     <g id=\"text_4\">\n      <!-- 32.6 -->\n      <g transform=\"translate(220.455142 298.508875) scale(0.1 -0.1)\">\n       <defs>\n        <path id=\"DejaVuSans-36\" d=\"M 2113 2584 \nQ 1688 2584 1439 2293 \nQ 1191 2003 1191 1497 \nQ 1191 994 1439 701 \nQ 1688 409 2113 409 \nQ 2538 409 2786 701 \nQ 3034 994 3034 1497 \nQ 3034 2003 2786 2293 \nQ 2538 2584 2113 2584 \nz\nM 3366 4563 \nL 3366 3988 \nQ 3128 4100 2886 4159 \nQ 2644 4219 2406 4219 \nQ 1781 4219 1451 3797 \nQ 1122 3375 1075 2522 \nQ 1259 2794 1537 2939 \nQ 1816 3084 2150 3084 \nQ 2853 3084 3261 2657 \nQ 3669 2231 3669 1497 \nQ 3669 778 3244 343 \nQ 2819 -91 2113 -91 \nQ 1303 -91 875 529 \nQ 447 1150 447 2328 \nQ 447 3434 972 4092 \nQ 1497 4750 2381 4750 \nQ 2619 4750 2861 4703 \nQ 3103 4656 3366 4563 \nz\n\" transform=\"scale(0.015625)\"/>\n       </defs>\n       <use xlink:href=\"#DejaVuSans-33\"/>\n       <use xlink:href=\"#DejaVuSans-32\" x=\"63.623047\"/>\n       <use xlink:href=\"#DejaVuSans-2e\" x=\"127.246094\"/>\n       <use xlink:href=\"#DejaVuSans-36\" x=\"159.033203\"/>\n      </g>\n     </g>\n    </g>\n    <g id=\"xtick_5\">\n     <g id=\"line2d_5\">\n      <g>\n       <use xlink:href=\"#m1500ce0908\" x=\"296.518864\" y=\"283.910437\" style=\"stroke: #000000; stroke-width: 0.8\"/>\n      </g>\n     </g>\n     <g id=\"text_5\">\n      <!-- 32.8 -->\n      <g transform=\"translate(285.386051 298.508875) scale(0.1 -0.1)\">\n       <defs>\n        <path id=\"DejaVuSans-38\" d=\"M 2034 2216 \nQ 1584 2216 1326 1975 \nQ 1069 1734 1069 1313 \nQ 1069 891 1326 650 \nQ 1584 409 2034 409 \nQ 2484 409 2743 651 \nQ 3003 894 3003 1313 \nQ 3003 1734 2745 1975 \nQ 2488 2216 2034 2216 \nz\nM 1403 2484 \nQ 997 2584 770 2862 \nQ 544 3141 544 3541 \nQ 544 4100 942 4425 \nQ 1341 4750 2034 4750 \nQ 2731 4750 3128 4425 \nQ 3525 4100 3525 3541 \nQ 3525 3141 3298 2862 \nQ 3072 2584 2669 2484 \nQ 3125 2378 3379 2068 \nQ 3634 1759 3634 1313 \nQ 3634 634 3220 271 \nQ 2806 -91 2034 -91 \nQ 1263 -91 848 271 \nQ 434 634 434 1313 \nQ 434 1759 690 2068 \nQ 947 2378 1403 2484 \nz\nM 1172 3481 \nQ 1172 3119 1398 2916 \nQ 1625 2713 2034 2713 \nQ 2441 2713 2670 2916 \nQ 2900 3119 2900 3481 \nQ 2900 3844 2670 4047 \nQ 2441 4250 2034 4250 \nQ 1625 4250 1398 4047 \nQ 1172 3844 1172 3481 \nz\n\" transform=\"scale(0.015625)\"/>\n       </defs>\n       <use xlink:href=\"#DejaVuSans-33\"/>\n       <use xlink:href=\"#DejaVuSans-32\" x=\"63.623047\"/>\n       <use xlink:href=\"#DejaVuSans-2e\" x=\"127.246094\"/>\n       <use xlink:href=\"#DejaVuSans-38\" x=\"159.033203\"/>\n      </g>\n     </g>\n    </g>\n    <g id=\"xtick_6\">\n     <g id=\"line2d_6\">\n      <g>\n       <use xlink:href=\"#m1500ce0908\" x=\"361.449773\" y=\"283.910437\" style=\"stroke: #000000; stroke-width: 0.8\"/>\n      </g>\n     </g>\n     <g id=\"text_6\">\n      <!-- 33.0 -->\n      <g transform=\"translate(350.31696 298.508875) scale(0.1 -0.1)\">\n       <use xlink:href=\"#DejaVuSans-33\"/>\n       <use xlink:href=\"#DejaVuSans-33\" x=\"63.623047\"/>\n       <use xlink:href=\"#DejaVuSans-2e\" x=\"127.246094\"/>\n       <use xlink:href=\"#DejaVuSans-30\" x=\"159.033203\"/>\n      </g>\n     </g>\n    </g>\n   </g>\n   <g id=\"matplotlib.axis_2\">\n    <g id=\"ytick_1\">\n     <g id=\"line2d_7\">\n      <defs>\n       <path id=\"m1cd6eef52f\" d=\"M 0 0 \nL -3.5 0 \n\" style=\"stroke: #000000; stroke-width: 0.8\"/>\n      </defs>\n      <g>\n       <use xlink:href=\"#m1cd6eef52f\" x=\"20.5625\" y=\"240.857238\" style=\"stroke: #000000; stroke-width: 0.8\"/>\n      </g>\n     </g>\n     <g id=\"text_7\">\n      <!-- 6 -->\n      <g transform=\"translate(7.2 244.656457) scale(0.1 -0.1)\">\n       <use xlink:href=\"#DejaVuSans-36\"/>\n      </g>\n     </g>\n    </g>\n    <g id=\"ytick_2\">\n     <g id=\"line2d_8\">\n      <g>\n       <use xlink:href=\"#m1cd6eef52f\" x=\"20.5625\" y=\"183.068668\" style=\"stroke: #000000; stroke-width: 0.8\"/>\n      </g>\n     </g>\n     <g id=\"text_8\">\n      <!-- 7 -->\n      <g transform=\"translate(7.2 186.867887) scale(0.1 -0.1)\">\n       <defs>\n        <path id=\"DejaVuSans-37\" d=\"M 525 4666 \nL 3525 4666 \nL 3525 4397 \nL 1831 0 \nL 1172 0 \nL 2766 4134 \nL 525 4134 \nL 525 4666 \nz\n\" transform=\"scale(0.015625)\"/>\n       </defs>\n       <use xlink:href=\"#DejaVuSans-37\"/>\n      </g>\n     </g>\n    </g>\n    <g id=\"ytick_3\">\n     <g id=\"line2d_9\">\n      <g>\n       <use xlink:href=\"#m1cd6eef52f\" x=\"20.5625\" y=\"125.280098\" style=\"stroke: #000000; stroke-width: 0.8\"/>\n      </g>\n     </g>\n     <g id=\"text_9\">\n      <!-- 8 -->\n      <g transform=\"translate(7.2 129.079317) scale(0.1 -0.1)\">\n       <use xlink:href=\"#DejaVuSans-38\"/>\n      </g>\n     </g>\n    </g>\n    <g id=\"ytick_4\">\n     <g id=\"line2d_10\">\n      <g>\n       <use xlink:href=\"#m1cd6eef52f\" x=\"20.5625\" y=\"67.491528\" style=\"stroke: #000000; stroke-width: 0.8\"/>\n      </g>\n     </g>\n     <g id=\"text_10\">\n      <!-- 9 -->\n      <g transform=\"translate(7.2 71.290747) scale(0.1 -0.1)\">\n       <defs>\n        <path id=\"DejaVuSans-39\" d=\"M 703 97 \nL 703 672 \nQ 941 559 1184 500 \nQ 1428 441 1663 441 \nQ 2288 441 2617 861 \nQ 2947 1281 2994 2138 \nQ 2813 1869 2534 1725 \nQ 2256 1581 1919 1581 \nQ 1219 1581 811 2004 \nQ 403 2428 403 3163 \nQ 403 3881 828 4315 \nQ 1253 4750 1959 4750 \nQ 2769 4750 3195 4129 \nQ 3622 3509 3622 2328 \nQ 3622 1225 3098 567 \nQ 2575 -91 1691 -91 \nQ 1453 -91 1209 -44 \nQ 966 3 703 97 \nz\nM 1959 2075 \nQ 2384 2075 2632 2365 \nQ 2881 2656 2881 3163 \nQ 2881 3666 2632 3958 \nQ 2384 4250 1959 4250 \nQ 1534 4250 1286 3958 \nQ 1038 3666 1038 3163 \nQ 1038 2656 1286 2365 \nQ 1534 2075 1959 2075 \nz\n\" transform=\"scale(0.015625)\"/>\n       </defs>\n       <use xlink:href=\"#DejaVuSans-39\"/>\n      </g>\n     </g>\n    </g>\n    <g id=\"text_11\">\n     <!-- 1e−6 -->\n     <g transform=\"translate(20.5625 14.798437) scale(0.1 -0.1)\">\n      <defs>\n       <path id=\"DejaVuSans-31\" d=\"M 794 531 \nL 1825 531 \nL 1825 4091 \nL 703 3866 \nL 703 4441 \nL 1819 4666 \nL 2450 4666 \nL 2450 531 \nL 3481 531 \nL 3481 0 \nL 794 0 \nL 794 531 \nz\n\" transform=\"scale(0.015625)\"/>\n       <path id=\"DejaVuSans-65\" d=\"M 3597 1894 \nL 3597 1613 \nL 953 1613 \nQ 991 1019 1311 708 \nQ 1631 397 2203 397 \nQ 2534 397 2845 478 \nQ 3156 559 3463 722 \nL 3463 178 \nQ 3153 47 2828 -22 \nQ 2503 -91 2169 -91 \nQ 1331 -91 842 396 \nQ 353 884 353 1716 \nQ 353 2575 817 3079 \nQ 1281 3584 2069 3584 \nQ 2775 3584 3186 3129 \nQ 3597 2675 3597 1894 \nz\nM 3022 2063 \nQ 3016 2534 2758 2815 \nQ 2500 3097 2075 3097 \nQ 1594 3097 1305 2825 \nQ 1016 2553 972 2059 \nL 3022 2063 \nz\n\" transform=\"scale(0.015625)\"/>\n       <path id=\"DejaVuSans-2212\" d=\"M 678 2272 \nL 4684 2272 \nL 4684 1741 \nL 678 1741 \nL 678 2272 \nz\n\" transform=\"scale(0.015625)\"/>\n      </defs>\n      <use xlink:href=\"#DejaVuSans-31\"/>\n      <use xlink:href=\"#DejaVuSans-65\" x=\"63.623047\"/>\n      <use xlink:href=\"#DejaVuSans-2212\" x=\"125.146484\"/>\n      <use xlink:href=\"#DejaVuSans-36\" x=\"208.935547\"/>\n     </g>\n    </g>\n   </g>\n   <g id=\"line2d_11\">\n    <path d=\"M 36.795227 29.894437 \nL 361.449773 271.814437 \n\" clip-path=\"url(#pfc72781a26)\" style=\"fill: none; stroke: #1f77b4; stroke-width: 1.5; stroke-linecap: square\"/>\n   </g>\n   <g id=\"patch_3\">\n    <path d=\"M 20.5625 283.910437 \nL 20.5625 17.798437 \n\" style=\"fill: none; stroke: #000000; stroke-width: 0.8; stroke-linejoin: miter; stroke-linecap: square\"/>\n   </g>\n   <g id=\"patch_4\">\n    <path d=\"M 377.6825 283.910437 \nL 377.6825 17.798437 \n\" style=\"fill: none; stroke: #000000; stroke-width: 0.8; stroke-linejoin: miter; stroke-linecap: square\"/>\n   </g>\n   <g id=\"patch_5\">\n    <path d=\"M 20.5625 283.910437 \nL 377.6825 283.910437 \n\" style=\"fill: none; stroke: #000000; stroke-width: 0.8; stroke-linejoin: miter; stroke-linecap: square\"/>\n   </g>\n   <g id=\"patch_6\">\n    <path d=\"M 20.5625 17.798437 \nL 377.6825 17.798437 \n\" style=\"fill: none; stroke: #000000; stroke-width: 0.8; stroke-linejoin: miter; stroke-linecap: square\"/>\n   </g>\n  </g>\n </g>\n <defs>\n  <clipPath id=\"pfc72781a26\">\n   <rect x=\"20.5625\" y=\"17.798437\" width=\"357.12\" height=\"266.112\"/>\n  </clipPath>\n </defs>\n</svg>\n",
      "text/plain": [
       "<Figure size 640x480 with 1 Axes>"
      ]
     },
     "metadata": {},
     "output_type": "display_data"
    }
   ],
   "source": [
    "pyplot.plot(xs,ys)"
   ]
  },
  {
   "cell_type": "code",
   "execution_count": null,
   "metadata": {},
   "outputs": [],
   "source": []
  }
 ],
 "metadata": {
  "kernelspec": {
   "display_name": "Python 3",
   "language": "python",
   "name": "python3"
  },
  "language_info": {
   "codemirror_mode": {
    "name": "ipython",
    "version": 3
   },
   "file_extension": ".py",
   "mimetype": "text/x-python",
   "name": "python",
   "nbconvert_exporter": "python",
   "pygments_lexer": "ipython3",
   "version": "3.10.6"
  },
  "orig_nbformat": 4,
  "vscode": {
   "interpreter": {
    "hash": "2a12d51c86ae5a9e0728790e9f226ac055370ed14b27e8d69cccd17f51d83081"
   }
  }
 },
 "nbformat": 4,
 "nbformat_minor": 2
}
